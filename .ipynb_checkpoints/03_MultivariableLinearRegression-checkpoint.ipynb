{
 "cells": [
  {
   "cell_type": "code",
   "execution_count": 1,
   "id": "ef94647d-8930-4c74-8f49-de996ebd4576",
   "metadata": {},
   "outputs": [
    {
     "data": {
      "text/plain": [
       "<torch._C.Generator at 0x2513a2059f0>"
      ]
     },
     "execution_count": 1,
     "metadata": {},
     "output_type": "execute_result"
    }
   ],
   "source": [
    "import torch\n",
    "import torch.nn as nn\n",
    "import torch.nn.functional as F\n",
    "import torch.optim as optim\n",
    "\n",
    "torch.manual_seed(81)"
   ]
  },
  {
   "cell_type": "code",
   "execution_count": 2,
   "id": "a3274322-366e-4f5f-ae54-c652eafe4c6a",
   "metadata": {},
   "outputs": [],
   "source": [
    "x_train = torch.FloatTensor([[73, 80, 75],\n",
    "                             [93, 88, 93],\n",
    "                             [89, 91, 80],\n",
    "                             [96, 98, 100],\n",
    "                             [73, 66, 70]])\n",
    "y_train = torch.FloatTensor([[152], [185], [180], [196], [142]])"
   ]
  },
  {
   "cell_type": "code",
   "execution_count": 3,
   "id": "a116c5e8-ae28-48d7-8301-ea2a20df84bf",
   "metadata": {},
   "outputs": [],
   "source": [
    "W = torch.zeros((3, 1), requires_grad=True)\n",
    "b = torch.zeros(1, requires_grad=True)"
   ]
  },
  {
   "cell_type": "code",
   "execution_count": 7,
   "id": "af1cdf2a-cb26-4673-8315-8e26b7d1e8ee",
   "metadata": {},
   "outputs": [
    {
     "name": "stdout",
     "output_type": "stream",
     "text": [
      "Epoch    0/10000 hypothesis: tensor([152.3978, 184.6360, 179.7861, 195.8935, 142.4593]) Cost: 0.111763\n",
      "Epoch 1000/10000 hypothesis: tensor([152.3888, 184.6380, 179.7951, 195.8852, 142.4669]) Cost: 0.111078\n",
      "Epoch 2000/10000 hypothesis: tensor([152.3813, 184.6397, 179.8026, 195.8783, 142.4732]) Cost: 0.110592\n",
      "Epoch 3000/10000 hypothesis: tensor([152.3750, 184.6412, 179.8087, 195.8727, 142.4785]) Cost: 0.110236\n",
      "Epoch 4000/10000 hypothesis: tensor([152.3698, 184.6423, 179.8138, 195.8680, 142.4828]) Cost: 0.109975\n",
      "Epoch 5000/10000 hypothesis: tensor([152.3654, 184.6434, 179.8181, 195.8640, 142.4864]) Cost: 0.109780\n",
      "Epoch 6000/10000 hypothesis: tensor([152.3618, 184.6442, 179.8216, 195.8608, 142.4894]) Cost: 0.109626\n",
      "Epoch 7000/10000 hypothesis: tensor([152.3587, 184.6450, 179.8246, 195.8582, 142.4918]) Cost: 0.109508\n",
      "Epoch 8000/10000 hypothesis: tensor([152.3561, 184.6456, 179.8270, 195.8559, 142.4939]) Cost: 0.109408\n",
      "Epoch 9000/10000 hypothesis: tensor([152.3540, 184.6462, 179.8291, 195.8541, 142.4956]) Cost: 0.109319\n",
      "Epoch 10000/10000 hypothesis: tensor([152.3522, 184.6465, 179.8308, 195.8526, 142.4969]) Cost: 0.109242\n"
     ]
    }
   ],
   "source": [
    "optimizer = optim.SGD([W, b], lr=1e-5)\n",
    "\n",
    "nb_epochs = 10000\n",
    "for epoch in range(nb_epochs + 1):\n",
    "    hypothesis = x_train.matmul(W) + b\n",
    "    cost = torch.mean((hypothesis - y_train) ** 2)\n",
    "    \n",
    "    optimizer.zero_grad()\n",
    "    cost.backward()\n",
    "    optimizer.step()\n",
    "\n",
    "    if epoch % 1000 == 0:\n",
    "        print('Epoch {:4d}/{} hypothesis: {} Cost: {:.6f}'.format(epoch, nb_epochs, hypothesis.squeeze().detach(), cost.item()))"
   ]
  },
  {
   "cell_type": "code",
   "execution_count": 8,
   "id": "2941a189-8374-4bd0-9be1-292efeccffe9",
   "metadata": {},
   "outputs": [],
   "source": [
    "with torch.no_grad():\n",
    "    new_input = torch.FloatTensor([[75, 85, 72]])\n",
    "    prediction = new_input.matmul(W) + b"
   ]
  },
  {
   "cell_type": "code",
   "execution_count": 9,
   "id": "3408344b-b308-4c76-9353-603e05ff6c59",
   "metadata": {},
   "outputs": [
    {
     "name": "stdout",
     "output_type": "stream",
     "text": [
      "Predicted value for input [75.0, 85.0, 72.0] : 157.62826538085938\n"
     ]
    }
   ],
   "source": [
    "print('Predicted value for input {} : {}'.format(new_input.squeeze().tolist(), prediction.item()))"
   ]
  }
 ],
 "metadata": {
  "kernelspec": {
   "display_name": "Python 3 (ipykernel)",
   "language": "python",
   "name": "python3"
  },
  "language_info": {
   "codemirror_mode": {
    "name": "ipython",
    "version": 3
   },
   "file_extension": ".py",
   "mimetype": "text/x-python",
   "name": "python",
   "nbconvert_exporter": "python",
   "pygments_lexer": "ipython3",
   "version": "3.12.8"
  }
 },
 "nbformat": 4,
 "nbformat_minor": 5
}
