{
 "cells": [
  {
   "cell_type": "code",
   "execution_count": 3,
   "id": "27e114aa-5b1b-461e-86a7-96ea27170e3c",
   "metadata": {},
   "outputs": [
    {
     "name": "stdout",
     "output_type": "stream",
     "text": [
      "showing info https://raw.githubusercontent.com/nltk/nltk_data/gh-pages/index.xml\n"
     ]
    },
    {
     "data": {
      "text/plain": [
       "True"
      ]
     },
     "execution_count": 3,
     "metadata": {},
     "output_type": "execute_result"
    }
   ],
   "source": [
    "import nltk\n",
    "nltk.download()"
   ]
  },
  {
   "cell_type": "code",
   "execution_count": 4,
   "id": "ff72bb46-1d85-48f1-940b-554b0f674cb2",
   "metadata": {},
   "outputs": [
    {
     "name": "stdout",
     "output_type": "stream",
     "text": [
      "Collecting konlpy\n",
      "  Downloading konlpy-0.6.0-py2.py3-none-any.whl.metadata (1.9 kB)\n",
      "Collecting JPype1>=0.7.0 (from konlpy)\n",
      "  Downloading jpype1-1.5.1-cp312-cp312-win_amd64.whl.metadata (5.0 kB)\n",
      "Collecting lxml>=4.1.0 (from konlpy)\n",
      "  Downloading lxml-5.3.0-cp312-cp312-win_amd64.whl.metadata (3.9 kB)\n",
      "Collecting numpy>=1.6 (from konlpy)\n",
      "  Downloading numpy-2.1.3-cp312-cp312-win_amd64.whl.metadata (60 kB)\n",
      "Requirement already satisfied: packaging in c:\\users\\jamco\\anaconda3\\envs\\pytorch\\lib\\site-packages (from JPype1>=0.7.0->konlpy) (24.1)\n",
      "Downloading konlpy-0.6.0-py2.py3-none-any.whl (19.4 MB)\n",
      "   ---------------------------------------- 0.0/19.4 MB ? eta -:--:--\n",
      "   ----- ---------------------------------- 2.6/19.4 MB 12.5 MB/s eta 0:00:02\n",
      "   ---------- ----------------------------- 5.2/19.4 MB 12.2 MB/s eta 0:00:02\n",
      "   ----------------- ---------------------- 8.4/19.4 MB 13.0 MB/s eta 0:00:01\n",
      "   ----------------------- ---------------- 11.5/19.4 MB 13.6 MB/s eta 0:00:01\n",
      "   ----------------------------- ---------- 14.2/19.4 MB 13.3 MB/s eta 0:00:01\n",
      "   ---------------------------------- ----- 16.8/19.4 MB 13.2 MB/s eta 0:00:01\n",
      "   ---------------------------------- ----- 16.8/19.4 MB 13.2 MB/s eta 0:00:01\n",
      "   ---------------------------------------- 19.4/19.4 MB 11.5 MB/s eta 0:00:00\n",
      "Downloading jpype1-1.5.1-cp312-cp312-win_amd64.whl (355 kB)\n",
      "Downloading lxml-5.3.0-cp312-cp312-win_amd64.whl (3.8 MB)\n",
      "   ---------------------------------------- 0.0/3.8 MB ? eta -:--:--\n",
      "   --------------------------- ------------ 2.6/3.8 MB 12.5 MB/s eta 0:00:01\n",
      "   ---------------------------------------- 3.8/3.8 MB 11.4 MB/s eta 0:00:00\n",
      "Downloading numpy-2.1.3-cp312-cp312-win_amd64.whl (12.6 MB)\n",
      "   ---------------------------------------- 0.0/12.6 MB ? eta -:--:--\n",
      "   -------- ------------------------------- 2.6/12.6 MB 13.7 MB/s eta 0:00:01\n",
      "   ---------------- ----------------------- 5.2/12.6 MB 12.8 MB/s eta 0:00:01\n",
      "   ------------------------- -------------- 7.9/12.6 MB 12.5 MB/s eta 0:00:01\n",
      "   --------------------------------- ------ 10.5/12.6 MB 12.6 MB/s eta 0:00:01\n",
      "   ---------------------------------------- 12.6/12.6 MB 12.1 MB/s eta 0:00:00\n",
      "Installing collected packages: numpy, lxml, JPype1, konlpy\n",
      "Successfully installed JPype1-1.5.1 konlpy-0.6.0 lxml-5.3.0 numpy-2.1.3\n",
      "Note: you may need to restart the kernel to use updated packages.\n"
     ]
    }
   ],
   "source": [
    "pip install konlpy"
   ]
  },
  {
   "cell_type": "code",
   "execution_count": 5,
   "id": "97115e26-d58e-4cde-883b-4ec246fa1c88",
   "metadata": {},
   "outputs": [
    {
     "name": "stdout",
     "output_type": "stream",
     "text": [
      "Collecting pandas\n",
      "  Downloading pandas-2.2.3-cp312-cp312-win_amd64.whl.metadata (19 kB)\n",
      "Requirement already satisfied: numpy>=1.26.0 in c:\\users\\jamco\\anaconda3\\envs\\pytorch\\lib\\site-packages (from pandas) (2.1.3)\n",
      "Requirement already satisfied: python-dateutil>=2.8.2 in c:\\users\\jamco\\anaconda3\\envs\\pytorch\\lib\\site-packages (from pandas) (2.9.0.post0)\n",
      "Requirement already satisfied: pytz>=2020.1 in c:\\users\\jamco\\anaconda3\\envs\\pytorch\\lib\\site-packages (from pandas) (2024.1)\n",
      "Collecting tzdata>=2022.7 (from pandas)\n",
      "  Downloading tzdata-2024.2-py2.py3-none-any.whl.metadata (1.4 kB)\n",
      "Requirement already satisfied: six>=1.5 in c:\\users\\jamco\\anaconda3\\envs\\pytorch\\lib\\site-packages (from python-dateutil>=2.8.2->pandas) (1.16.0)\n",
      "Downloading pandas-2.2.3-cp312-cp312-win_amd64.whl (11.5 MB)\n",
      "   ---------------------------------------- 0.0/11.5 MB ? eta -:--:--\n",
      "   ------ --------------------------------- 1.8/11.5 MB 10.1 MB/s eta 0:00:01\n",
      "   ------------- -------------------------- 3.9/11.5 MB 10.2 MB/s eta 0:00:01\n",
      "   --------------------- ------------------ 6.3/11.5 MB 10.7 MB/s eta 0:00:01\n",
      "   ---------------------------- ----------- 8.1/11.5 MB 10.5 MB/s eta 0:00:01\n",
      "   ------------------------------------ --- 10.5/11.5 MB 10.7 MB/s eta 0:00:01\n",
      "   ---------------------------------------- 11.5/11.5 MB 10.1 MB/s eta 0:00:00\n",
      "Downloading tzdata-2024.2-py2.py3-none-any.whl (346 kB)\n",
      "Installing collected packages: tzdata, pandas\n",
      "Successfully installed pandas-2.2.3 tzdata-2024.2\n",
      "Note: you may need to restart the kernel to use updated packages.\n"
     ]
    }
   ],
   "source": [
    "pip install pandas"
   ]
  },
  {
   "cell_type": "code",
   "execution_count": 6,
   "id": "c832d5b2-968c-4bcd-8bfd-89e7074b6b8a",
   "metadata": {},
   "outputs": [
    {
     "name": "stdout",
     "output_type": "stream",
     "text": [
      "Collecting matplotlibNote: you may need to restart the kernel to use updated packages.\n",
      "\n",
      "  Downloading matplotlib-3.9.2-cp312-cp312-win_amd64.whl.metadata (11 kB)\n",
      "Collecting contourpy>=1.0.1 (from matplotlib)\n",
      "  Downloading contourpy-1.3.1-cp312-cp312-win_amd64.whl.metadata (5.4 kB)\n",
      "Collecting cycler>=0.10 (from matplotlib)\n",
      "  Downloading cycler-0.12.1-py3-none-any.whl.metadata (3.8 kB)\n",
      "Collecting fonttools>=4.22.0 (from matplotlib)\n",
      "  Downloading fonttools-4.55.0-cp312-cp312-win_amd64.whl.metadata (167 kB)\n",
      "Collecting kiwisolver>=1.3.1 (from matplotlib)\n",
      "  Downloading kiwisolver-1.4.7-cp312-cp312-win_amd64.whl.metadata (6.4 kB)\n",
      "Requirement already satisfied: numpy>=1.23 in c:\\users\\jamco\\anaconda3\\envs\\pytorch\\lib\\site-packages (from matplotlib) (2.1.3)\n",
      "Requirement already satisfied: packaging>=20.0 in c:\\users\\jamco\\anaconda3\\envs\\pytorch\\lib\\site-packages (from matplotlib) (24.1)\n",
      "Collecting pillow>=8 (from matplotlib)\n",
      "  Downloading pillow-11.0.0-cp312-cp312-win_amd64.whl.metadata (9.3 kB)\n",
      "Collecting pyparsing>=2.3.1 (from matplotlib)\n",
      "  Downloading pyparsing-3.2.0-py3-none-any.whl.metadata (5.0 kB)\n",
      "Requirement already satisfied: python-dateutil>=2.7 in c:\\users\\jamco\\anaconda3\\envs\\pytorch\\lib\\site-packages (from matplotlib) (2.9.0.post0)\n",
      "Requirement already satisfied: six>=1.5 in c:\\users\\jamco\\anaconda3\\envs\\pytorch\\lib\\site-packages (from python-dateutil>=2.7->matplotlib) (1.16.0)\n",
      "Downloading matplotlib-3.9.2-cp312-cp312-win_amd64.whl (7.8 MB)\n",
      "   ---------------------------------------- 0.0/7.8 MB ? eta -:--:--\n",
      "   ------------ --------------------------- 2.4/7.8 MB 12.2 MB/s eta 0:00:01\n",
      "   -------------------------- ------------- 5.2/7.8 MB 12.7 MB/s eta 0:00:01\n",
      "   ---------------------------------------- 7.8/7.8 MB 12.1 MB/s eta 0:00:00\n",
      "Downloading contourpy-1.3.1-cp312-cp312-win_amd64.whl (220 kB)\n",
      "Downloading cycler-0.12.1-py3-none-any.whl (8.3 kB)\n",
      "Downloading fonttools-4.55.0-cp312-cp312-win_amd64.whl (2.2 MB)\n",
      "   ---------------------------------------- 0.0/2.2 MB ? eta -:--:--\n",
      "   ---------------------------------------- 2.2/2.2 MB 11.3 MB/s eta 0:00:00\n",
      "Downloading kiwisolver-1.4.7-cp312-cp312-win_amd64.whl (55 kB)\n",
      "Downloading pillow-11.0.0-cp312-cp312-win_amd64.whl (2.6 MB)\n",
      "   ---------------------------------------- 0.0/2.6 MB ? eta -:--:--\n",
      "   ---------------------------------------- 2.6/2.6 MB 14.8 MB/s eta 0:00:00\n",
      "Downloading pyparsing-3.2.0-py3-none-any.whl (106 kB)\n",
      "Installing collected packages: pyparsing, pillow, kiwisolver, fonttools, cycler, contourpy, matplotlib\n",
      "Successfully installed contourpy-1.3.1 cycler-0.12.1 fonttools-4.55.0 kiwisolver-1.4.7 matplotlib-3.9.2 pillow-11.0.0 pyparsing-3.2.0\n"
     ]
    }
   ],
   "source": [
    "pip install matplotlib"
   ]
  },
  {
   "cell_type": "code",
   "execution_count": 8,
   "id": "f920c606-6c8b-400c-8606-7a63a448658d",
   "metadata": {},
   "outputs": [
    {
     "name": "stdout",
     "output_type": "stream",
     "text": [
      "Collecting scikit-learn\n",
      "  Downloading scikit_learn-1.5.2-cp312-cp312-win_amd64.whl.metadata (13 kB)\n",
      "Requirement already satisfied: numpy>=1.19.5 in c:\\users\\jamco\\anaconda3\\envs\\pytorch\\lib\\site-packages (from scikit-learn) (2.1.3)\n",
      "Collecting scipy>=1.6.0 (from scikit-learn)\n",
      "  Downloading scipy-1.14.1-cp312-cp312-win_amd64.whl.metadata (60 kB)\n",
      "Requirement already satisfied: joblib>=1.2.0 in c:\\users\\jamco\\anaconda3\\envs\\pytorch\\lib\\site-packages (from scikit-learn) (1.4.2)\n",
      "Collecting threadpoolctl>=3.1.0 (from scikit-learn)\n",
      "  Downloading threadpoolctl-3.5.0-py3-none-any.whl.metadata (13 kB)\n",
      "Downloading scikit_learn-1.5.2-cp312-cp312-win_amd64.whl (11.0 MB)\n",
      "   ---------------------------------------- 0.0/11.0 MB ? eta -:--:--\n",
      "   -------- ------------------------------- 2.4/11.0 MB 12.2 MB/s eta 0:00:01\n",
      "   ------------------- -------------------- 5.2/11.0 MB 12.7 MB/s eta 0:00:01\n",
      "   -------------------------- ------------- 7.3/11.0 MB 11.6 MB/s eta 0:00:01\n",
      "   --------------------------------- ------ 9.2/11.0 MB 11.2 MB/s eta 0:00:01\n",
      "   ---------------------------------------- 11.0/11.0 MB 10.6 MB/s eta 0:00:00\n",
      "Downloading scipy-1.14.1-cp312-cp312-win_amd64.whl (44.5 MB)\n",
      "   ---------------------------------------- 0.0/44.5 MB ? eta -:--:--\n",
      "   -- ------------------------------------- 2.6/44.5 MB 12.5 MB/s eta 0:00:04\n",
      "   ---- ----------------------------------- 5.2/44.5 MB 13.3 MB/s eta 0:00:03\n",
      "   ------- -------------------------------- 7.9/44.5 MB 12.8 MB/s eta 0:00:03\n",
      "   --------- ------------------------------ 10.7/44.5 MB 12.9 MB/s eta 0:00:03\n",
      "   ------------ --------------------------- 13.6/44.5 MB 13.0 MB/s eta 0:00:03\n",
      "   -------------- ------------------------- 16.3/44.5 MB 13.3 MB/s eta 0:00:03\n",
      "   ----------------- ---------------------- 19.4/44.5 MB 13.3 MB/s eta 0:00:02\n",
      "   -------------------- ------------------- 22.3/44.5 MB 13.4 MB/s eta 0:00:02\n",
      "   ---------------------- ----------------- 25.4/44.5 MB 13.5 MB/s eta 0:00:02\n",
      "   ------------------------- -------------- 28.0/44.5 MB 13.5 MB/s eta 0:00:02\n",
      "   ---------------------------- ----------- 31.2/44.5 MB 13.6 MB/s eta 0:00:01\n",
      "   ------------------------------ --------- 34.1/44.5 MB 13.6 MB/s eta 0:00:01\n",
      "   -------------------------------- ------- 36.4/44.5 MB 13.5 MB/s eta 0:00:01\n",
      "   ----------------------------------- ---- 39.3/44.5 MB 13.4 MB/s eta 0:00:01\n",
      "   -------------------------------------- - 42.5/44.5 MB 13.6 MB/s eta 0:00:01\n",
      "   ---------------------------------------  44.3/44.5 MB 13.6 MB/s eta 0:00:01\n",
      "   ---------------------------------------- 44.5/44.5 MB 13.1 MB/s eta 0:00:00\n",
      "Downloading threadpoolctl-3.5.0-py3-none-any.whl (18 kB)\n",
      "Installing collected packages: threadpoolctl, scipy, scikit-learn\n",
      "Successfully installed scikit-learn-1.5.2 scipy-1.14.1 threadpoolctl-3.5.0\n",
      "Note: you may need to restart the kernel to use updated packages.\n"
     ]
    }
   ],
   "source": [
    "pip install scikit-learn"
   ]
  },
  {
   "cell_type": "code",
   "execution_count": 1,
   "id": "0a43c41f-c674-4dbf-8927-333e5bc4d298",
   "metadata": {},
   "outputs": [
    {
     "name": "stdout",
     "output_type": "stream",
     "text": [
      "Collecting torchNote: you may need to restart the kernel to use updated packages.\n",
      "\n",
      "  Downloading torch-2.5.1-cp312-cp312-win_amd64.whl.metadata (28 kB)\n",
      "Collecting filelock (from torch)\n",
      "  Downloading filelock-3.16.1-py3-none-any.whl.metadata (2.9 kB)\n",
      "Requirement already satisfied: typing-extensions>=4.8.0 in c:\\users\\jamco\\anaconda3\\envs\\pytorch\\lib\\site-packages (from torch) (4.11.0)\n",
      "Collecting networkx (from torch)\n",
      "  Downloading networkx-3.4.2-py3-none-any.whl.metadata (6.3 kB)\n",
      "Requirement already satisfied: jinja2 in c:\\users\\jamco\\anaconda3\\envs\\pytorch\\lib\\site-packages (from torch) (3.1.4)\n",
      "Collecting fsspec (from torch)\n",
      "  Downloading fsspec-2024.10.0-py3-none-any.whl.metadata (11 kB)\n",
      "Requirement already satisfied: setuptools in c:\\users\\jamco\\anaconda3\\envs\\pytorch\\lib\\site-packages (from torch) (75.1.0)\n",
      "Collecting sympy==1.13.1 (from torch)\n",
      "  Downloading sympy-1.13.1-py3-none-any.whl.metadata (12 kB)\n",
      "Collecting mpmath<1.4,>=1.1.0 (from sympy==1.13.1->torch)\n",
      "  Downloading mpmath-1.3.0-py3-none-any.whl.metadata (8.6 kB)\n",
      "Requirement already satisfied: MarkupSafe>=2.0 in c:\\users\\jamco\\anaconda3\\envs\\pytorch\\lib\\site-packages (from jinja2->torch) (2.1.3)\n",
      "Downloading torch-2.5.1-cp312-cp312-win_amd64.whl (203.0 MB)\n",
      "   ---------------------------------------- 0.0/203.0 MB ? eta -:--:--\n",
      "   ---------------------------------------- 2.4/203.0 MB 19.2 MB/s eta 0:00:11\n",
      "   - -------------------------------------- 6.3/203.0 MB 16.8 MB/s eta 0:00:12\n",
      "   -- ------------------------------------- 10.2/203.0 MB 18.2 MB/s eta 0:00:11\n",
      "   --- ------------------------------------ 15.7/203.0 MB 20.2 MB/s eta 0:00:10\n",
      "   --- ------------------------------------ 19.4/203.0 MB 19.4 MB/s eta 0:00:10\n",
      "   ---- ----------------------------------- 24.4/203.0 MB 20.3 MB/s eta 0:00:09\n",
      "   ----- ---------------------------------- 30.4/203.0 MB 21.2 MB/s eta 0:00:09\n",
      "   ------- -------------------------------- 35.7/203.0 MB 21.8 MB/s eta 0:00:08\n",
      "   -------- ------------------------------- 40.9/203.0 MB 22.0 MB/s eta 0:00:08\n",
      "   -------- ------------------------------- 45.4/203.0 MB 22.2 MB/s eta 0:00:08\n",
      "   --------- ------------------------------ 50.6/203.0 MB 22.2 MB/s eta 0:00:07\n",
      "   ---------- ----------------------------- 52.2/203.0 MB 21.0 MB/s eta 0:00:08\n",
      "   ---------- ----------------------------- 52.7/203.0 MB 19.6 MB/s eta 0:00:08\n",
      "   ---------- ----------------------------- 54.5/203.0 MB 19.0 MB/s eta 0:00:08\n",
      "   ----------- ---------------------------- 59.2/203.0 MB 19.1 MB/s eta 0:00:08\n",
      "   ------------ --------------------------- 63.7/203.0 MB 19.3 MB/s eta 0:00:08\n",
      "   ------------- -------------------------- 68.2/203.0 MB 19.5 MB/s eta 0:00:07\n",
      "   -------------- ------------------------- 72.9/203.0 MB 19.6 MB/s eta 0:00:07\n",
      "   --------------- ------------------------ 76.8/203.0 MB 19.6 MB/s eta 0:00:07\n",
      "   --------------- ------------------------ 80.2/203.0 MB 19.4 MB/s eta 0:00:07\n",
      "   ---------------- ----------------------- 83.9/203.0 MB 19.3 MB/s eta 0:00:07\n",
      "   ---------------- ----------------------- 86.0/203.0 MB 18.9 MB/s eta 0:00:07\n",
      "   ----------------- ---------------------- 89.9/203.0 MB 18.9 MB/s eta 0:00:06\n",
      "   ------------------ --------------------- 94.1/203.0 MB 18.9 MB/s eta 0:00:06\n",
      "   ------------------- -------------------- 99.1/203.0 MB 19.1 MB/s eta 0:00:06\n",
      "   -------------------- ------------------ 104.3/203.0 MB 19.3 MB/s eta 0:00:06\n",
      "   -------------------- ------------------ 107.5/203.0 MB 19.1 MB/s eta 0:00:05\n",
      "   --------------------- ----------------- 111.1/203.0 MB 19.1 MB/s eta 0:00:05\n",
      "   ---------------------- ---------------- 115.1/203.0 MB 19.0 MB/s eta 0:00:05\n",
      "   ---------------------- ---------------- 119.3/203.0 MB 19.0 MB/s eta 0:00:05\n",
      "   ----------------------- --------------- 123.7/203.0 MB 19.0 MB/s eta 0:00:05\n",
      "   ------------------------ -------------- 127.7/203.0 MB 19.1 MB/s eta 0:00:04\n",
      "   ------------------------- ------------- 132.1/203.0 MB 19.1 MB/s eta 0:00:04\n",
      "   -------------------------- ------------ 135.8/203.0 MB 19.1 MB/s eta 0:00:04\n",
      "   -------------------------- ------------ 139.7/203.0 MB 19.1 MB/s eta 0:00:04\n",
      "   --------------------------- ----------- 143.9/203.0 MB 19.1 MB/s eta 0:00:04\n",
      "   ---------------------------- ---------- 148.9/203.0 MB 19.2 MB/s eta 0:00:03\n",
      "   ----------------------------- --------- 153.6/203.0 MB 19.3 MB/s eta 0:00:03\n",
      "   ------------------------------ -------- 158.3/203.0 MB 19.4 MB/s eta 0:00:03\n",
      "   ------------------------------- ------- 163.6/203.0 MB 19.5 MB/s eta 0:00:03\n",
      "   -------------------------------- ------ 168.3/203.0 MB 19.6 MB/s eta 0:00:02\n",
      "   --------------------------------- ----- 172.2/203.0 MB 19.5 MB/s eta 0:00:02\n",
      "   --------------------------------- ----- 176.7/203.0 MB 19.6 MB/s eta 0:00:02\n",
      "   ---------------------------------- ---- 181.9/203.0 MB 19.7 MB/s eta 0:00:02\n",
      "   ------------------------------------ -- 187.7/203.0 MB 19.9 MB/s eta 0:00:01\n",
      "   ------------------------------------ -- 189.3/203.0 MB 19.6 MB/s eta 0:00:01\n",
      "   ------------------------------------- - 195.0/203.0 MB 19.7 MB/s eta 0:00:01\n",
      "   --------------------------------------  199.5/203.0 MB 19.8 MB/s eta 0:00:01\n",
      "   --------------------------------------  202.1/203.0 MB 19.6 MB/s eta 0:00:01\n",
      "   --------------------------------------  202.9/203.0 MB 19.5 MB/s eta 0:00:01\n",
      "   --------------------------------------- 203.0/203.0 MB 19.2 MB/s eta 0:00:00\n",
      "Downloading sympy-1.13.1-py3-none-any.whl (6.2 MB)\n",
      "   ---------------------------------------- 0.0/6.2 MB ? eta -:--:--\n",
      "   ------------------ --------------------- 2.9/6.2 MB 21.0 MB/s eta 0:00:01\n",
      "   ----------------------------------- ---- 5.5/6.2 MB 12.4 MB/s eta 0:00:01\n",
      "   ---------------------------------------- 6.2/6.2 MB 11.2 MB/s eta 0:00:00\n",
      "Downloading filelock-3.16.1-py3-none-any.whl (16 kB)\n",
      "Downloading fsspec-2024.10.0-py3-none-any.whl (179 kB)\n",
      "Downloading networkx-3.4.2-py3-none-any.whl (1.7 MB)\n",
      "   ---------------------------------------- 0.0/1.7 MB ? eta -:--:--\n",
      "   ---------------------------------------- 1.7/1.7 MB 8.5 MB/s eta 0:00:00\n",
      "Downloading mpmath-1.3.0-py3-none-any.whl (536 kB)\n",
      "   ---------------------------------------- 0.0/536.2 kB ? eta -:--:--\n",
      "   ---------------------------------------- 536.2/536.2 kB 8.8 MB/s eta 0:00:00\n",
      "Installing collected packages: mpmath, sympy, networkx, fsspec, filelock, torch\n",
      "Successfully installed filelock-3.16.1 fsspec-2024.10.0 mpmath-1.3.0 networkx-3.4.2 sympy-1.13.1 torch-2.5.1\n"
     ]
    }
   ],
   "source": [
    "pip install torch"
   ]
  },
  {
   "cell_type": "code",
   "execution_count": null,
   "id": "7b200d8f-99ee-4f36-a3d2-d14ec7bb2d17",
   "metadata": {},
   "outputs": [],
   "source": []
  }
 ],
 "metadata": {
  "kernelspec": {
   "display_name": "Python 3 (ipykernel)",
   "language": "python",
   "name": "python3"
  },
  "language_info": {
   "codemirror_mode": {
    "name": "ipython",
    "version": 3
   },
   "file_extension": ".py",
   "mimetype": "text/x-python",
   "name": "python",
   "nbconvert_exporter": "python",
   "pygments_lexer": "ipython3",
   "version": "3.12.7"
  }
 },
 "nbformat": 4,
 "nbformat_minor": 5
}
