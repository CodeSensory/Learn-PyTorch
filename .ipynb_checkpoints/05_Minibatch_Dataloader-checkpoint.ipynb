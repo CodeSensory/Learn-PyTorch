{
 "cells": [
  {
   "cell_type": "code",
   "execution_count": 1,
   "id": "4c481f6b-70bd-4a3e-b04e-560fa8505d7b",
   "metadata": {},
   "outputs": [],
   "source": [
    "import torch\n",
    "import torch.nn as nn\n",
    "import torch.nn.functional as F\n",
    "\n",
    "from torch.utils.data import TensorDataset\n",
    "from torch.utils.data import DataLoader"
   ]
  },
  {
   "cell_type": "code",
   "execution_count": 2,
   "id": "8a699d5b-bc2b-46c9-94b1-cf7fda3d68bb",
   "metadata": {},
   "outputs": [],
   "source": [
    "x_train = torch.FloatTensor([[73, 80, 75],\n",
    "                             [93, 88, 93],\n",
    "                             [89, 91, 80],\n",
    "                             [96, 98, 100],\n",
    "                             [73, 66, 70]])\n",
    "y_train = torch.FloatTensor([[152], [185], [180], [196], [142]])"
   ]
  },
  {
   "cell_type": "code",
   "execution_count": 3,
   "id": "2d5b9300-cd89-4f51-af8d-6813bc15d727",
   "metadata": {},
   "outputs": [],
   "source": [
    "dataset = TensorDataset(x_train, y_train)\n",
    "dataloader = DataLoader(dataset, batch_size=2, shuffle=True)"
   ]
  },
  {
   "cell_type": "code",
   "execution_count": 4,
   "id": "00c57359-c802-411c-8b7e-4e501d6592ea",
   "metadata": {},
   "outputs": [],
   "source": [
    "class multivariableLinearRegression(nn.Module):\n",
    "    def __init__(self):\n",
    "        super().__init__()\n",
    "        self.linear = nn.Linear(3, 1)\n",
    "\n",
    "    def forward(self, x):\n",
    "        return self.linear(x)"
   ]
  },
  {
   "cell_type": "code",
   "execution_count": 5,
   "id": "1d1dda3a-d46c-4ea7-bc16-edf6137f06ac",
   "metadata": {},
   "outputs": [],
   "source": [
    "model = multivariableLinearRegression()\n",
    "optimizer = torch.optim.SGD(model.parameters(), lr=1e-5)"
   ]
  },
  {
   "cell_type": "code",
   "execution_count": 6,
   "id": "40b5770b-e908-4994-8e6e-45abdc6d91d0",
   "metadata": {},
   "outputs": [
    {
     "name": "stdout",
     "output_type": "stream",
     "text": [
      "Epoch    0/20 Batch 1/3 Cost: 10409.787109\n",
      "Epoch    0/20 Batch 2/3 Cost: 1867.756592\n",
      "Epoch    0/20 Batch 3/3 Cost: 445.010651\n",
      "Epoch    1/20 Batch 1/3 Cost: 234.477905\n",
      "Epoch    1/20 Batch 2/3 Cost: 252.959030\n",
      "Epoch    1/20 Batch 3/3 Cost: 37.082294\n",
      "Epoch    2/20 Batch 1/3 Cost: 7.800531\n",
      "Epoch    2/20 Batch 2/3 Cost: 38.802635\n",
      "Epoch    2/20 Batch 3/3 Cost: 0.297040\n",
      "Epoch    3/20 Batch 1/3 Cost: 1.720234\n",
      "Epoch    3/20 Batch 2/3 Cost: 27.521255\n",
      "Epoch    3/20 Batch 3/3 Cost: 10.409228\n",
      "Epoch    4/20 Batch 1/3 Cost: 2.553689\n",
      "Epoch    4/20 Batch 2/3 Cost: 25.332258\n",
      "Epoch    4/20 Batch 3/3 Cost: 21.162022\n",
      "Epoch    5/20 Batch 1/3 Cost: 35.813118\n",
      "Epoch    5/20 Batch 2/3 Cost: 10.770840\n",
      "Epoch    5/20 Batch 3/3 Cost: 4.917707\n",
      "Epoch    6/20 Batch 1/3 Cost: 33.403267\n",
      "Epoch    6/20 Batch 2/3 Cost: 1.507644\n",
      "Epoch    6/20 Batch 3/3 Cost: 8.229516\n",
      "Epoch    7/20 Batch 1/3 Cost: 30.400948\n",
      "Epoch    7/20 Batch 2/3 Cost: 7.683826\n",
      "Epoch    7/20 Batch 3/3 Cost: 14.220872\n",
      "Epoch    8/20 Batch 1/3 Cost: 5.265790\n",
      "Epoch    8/20 Batch 2/3 Cost: 32.733894\n",
      "Epoch    8/20 Batch 3/3 Cost: 19.359409\n",
      "Epoch    9/20 Batch 1/3 Cost: 3.042111\n",
      "Epoch    9/20 Batch 2/3 Cost: 5.062389\n",
      "Epoch    9/20 Batch 3/3 Cost: 61.490665\n",
      "Epoch   10/20 Batch 1/3 Cost: 18.445192\n",
      "Epoch   10/20 Batch 2/3 Cost: 17.431490\n",
      "Epoch   10/20 Batch 3/3 Cost: 18.053293\n",
      "Epoch   11/20 Batch 1/3 Cost: 1.177754\n",
      "Epoch   11/20 Batch 2/3 Cost: 12.470695\n",
      "Epoch   11/20 Batch 3/3 Cost: 59.846523\n",
      "Epoch   12/20 Batch 1/3 Cost: 19.753218\n",
      "Epoch   12/20 Batch 2/3 Cost: 18.982271\n",
      "Epoch   12/20 Batch 3/3 Cost: 0.485435\n",
      "Epoch   13/20 Batch 1/3 Cost: 0.968347\n",
      "Epoch   13/20 Batch 2/3 Cost: 13.458647\n",
      "Epoch   13/20 Batch 3/3 Cost: 58.468723\n",
      "Epoch   14/20 Batch 1/3 Cost: 8.798714\n",
      "Epoch   14/20 Batch 2/3 Cost: 31.313229\n",
      "Epoch   14/20 Batch 3/3 Cost: 10.049372\n",
      "Epoch   15/20 Batch 1/3 Cost: 27.727579\n",
      "Epoch   15/20 Batch 2/3 Cost: 8.758186\n",
      "Epoch   15/20 Batch 3/3 Cost: 4.667330\n",
      "Epoch   16/20 Batch 1/3 Cost: 3.852000\n",
      "Epoch   16/20 Batch 2/3 Cost: 6.637818\n",
      "Epoch   16/20 Batch 3/3 Cost: 53.804787\n",
      "Epoch   17/20 Batch 1/3 Cost: 28.020185\n",
      "Epoch   17/20 Batch 2/3 Cost: 1.645733\n",
      "Epoch   17/20 Batch 3/3 Cost: 14.838765\n",
      "Epoch   18/20 Batch 1/3 Cost: 7.209680\n",
      "Epoch   18/20 Batch 2/3 Cost: 25.957685\n",
      "Epoch   18/20 Batch 3/3 Cost: 13.117293\n",
      "Epoch   19/20 Batch 1/3 Cost: 1.881243\n",
      "Epoch   19/20 Batch 2/3 Cost: 10.474571\n",
      "Epoch   19/20 Batch 3/3 Cost: 61.346210\n",
      "Epoch   20/20 Batch 1/3 Cost: 9.214378\n",
      "Epoch   20/20 Batch 2/3 Cost: 19.713123\n",
      "Epoch   20/20 Batch 3/3 Cost: 24.816622\n"
     ]
    }
   ],
   "source": [
    "nb_epochs = 20\n",
    "for epoch in range(nb_epochs + 1):\n",
    "    for batch_idx, samples in enumerate(dataloader):\n",
    "        x_train, y_train = samples\n",
    "        prediction = model(x_train)\n",
    "\n",
    "        cost = F.mse_loss(prediction, y_train)\n",
    "\n",
    "        optimizer.zero_grad()\n",
    "        cost.backward()\n",
    "        optimizer.step()\n",
    "\n",
    "        print('Epoch {:4d}/{} Batch {}/{} Cost: {:.6f}'.format(epoch, nb_epochs, batch_idx+1, len(dataloader), cost.item()))"
   ]
  },
  {
   "cell_type": "code",
   "execution_count": 7,
   "id": "ec07013f-4ce8-4c64-a2bf-570157876718",
   "metadata": {},
   "outputs": [
    {
     "name": "stdout",
     "output_type": "stream",
     "text": [
      "훈련 후 입력이 73, 80, 75일 때의 예측값 : tensor([[153.5493]], grad_fn=<AddmmBackward0>)\n"
     ]
    }
   ],
   "source": [
    "new_var = torch.FloatTensor([[73, 80, 75]])\n",
    "pred_y = model(new_var)\n",
    "print(\"훈련 후 입력이 73, 80, 75일 때의 예측값 :\", pred_y)"
   ]
  },
  {
   "cell_type": "markdown",
   "id": "921e5531-480a-43d6-81d8-d0ea34bf8af2",
   "metadata": {},
   "source": [
    "### Custom Dataset"
   ]
  },
  {
   "cell_type": "code",
   "execution_count": 8,
   "id": "20ff2647-bc9f-43d4-ba9b-b1da9afe4d7e",
   "metadata": {},
   "outputs": [],
   "source": [
    "import torch\n",
    "import torch.nn.functional as F\n",
    "from torch.utils.data import Dataset\n",
    "from torch.utils.data import DataLoader"
   ]
  },
  {
   "cell_type": "code",
   "execution_count": 9,
   "id": "6b1dfd32-c4a1-43b7-b834-e202e0d84395",
   "metadata": {},
   "outputs": [],
   "source": [
    "class CustomDataset(Dataset):\n",
    "    def __init__(self):\n",
    "        self.x_data = [[73, 80, 75],\n",
    "                       [93, 88, 93],\n",
    "                       [89, 91, 90],\n",
    "                       [96, 98, 100],\n",
    "                       [73, 66, 70]]\n",
    "        self.y_data = [[152], [185], [180], [196], [142]]\n",
    "\n",
    "    def __len__(self):\n",
    "        return len(self.x_data)\n",
    "\n",
    "    def __getitem__(self, idx):\n",
    "        x = torch.FloatTensor(self.x_data[idx])\n",
    "        y = torch.FloatTensor(self.y_data[idx])\n",
    "        return x, y"
   ]
  },
  {
   "cell_type": "code",
   "execution_count": 10,
   "id": "e6c852e1-e326-4c6f-b143-45417b81f2ba",
   "metadata": {},
   "outputs": [],
   "source": [
    "dataset = CustomDataset()\n",
    "dataloader = DataLoader(dataset, batch_size=2, shuffle=True)"
   ]
  },
  {
   "cell_type": "code",
   "execution_count": 11,
   "id": "fc479050-4b71-4941-a721-aca65610fdf8",
   "metadata": {},
   "outputs": [],
   "source": [
    "model = multivariableLinearRegression()"
   ]
  },
  {
   "cell_type": "code",
   "execution_count": 12,
   "id": "01cd12ff-6659-4a3a-9582-5b9b9fed0d55",
   "metadata": {},
   "outputs": [
    {
     "name": "stdout",
     "output_type": "stream",
     "text": [
      "Epoch    0/20 Batch 1/3 Cost: 18219.039062\n",
      "Epoch    0/20 Batch 2/3 Cost: 6645.659180\n",
      "Epoch    0/20 Batch 3/3 Cost: 1254.293579\n",
      "Epoch    1/20 Batch 1/3 Cost: 591.478516\n",
      "Epoch    1/20 Batch 2/3 Cost: 217.792480\n",
      "Epoch    1/20 Batch 3/3 Cost: 92.834885\n",
      "Epoch    2/20 Batch 1/3 Cost: 18.718716\n",
      "Epoch    2/20 Batch 2/3 Cost: 4.530531\n",
      "Epoch    2/20 Batch 3/3 Cost: 0.349393\n",
      "Epoch    3/20 Batch 1/3 Cost: 1.493901\n",
      "Epoch    3/20 Batch 2/3 Cost: 0.257740\n",
      "Epoch    3/20 Batch 3/3 Cost: 0.041434\n",
      "Epoch    4/20 Batch 1/3 Cost: 0.420582\n",
      "Epoch    4/20 Batch 2/3 Cost: 0.390882\n",
      "Epoch    4/20 Batch 3/3 Cost: 0.188321\n",
      "Epoch    5/20 Batch 1/3 Cost: 0.169243\n",
      "Epoch    5/20 Batch 2/3 Cost: 0.196908\n",
      "Epoch    5/20 Batch 3/3 Cost: 0.672913\n",
      "Epoch    6/20 Batch 1/3 Cost: 0.271958\n",
      "Epoch    6/20 Batch 2/3 Cost: 0.180517\n",
      "Epoch    6/20 Batch 3/3 Cost: 0.515418\n",
      "Epoch    7/20 Batch 1/3 Cost: 0.602490\n",
      "Epoch    7/20 Batch 2/3 Cost: 0.208049\n",
      "Epoch    7/20 Batch 3/3 Cost: 0.401399\n",
      "Epoch    8/20 Batch 1/3 Cost: 0.462891\n",
      "Epoch    8/20 Batch 2/3 Cost: 0.239307\n",
      "Epoch    8/20 Batch 3/3 Cost: 0.099390\n",
      "Epoch    9/20 Batch 1/3 Cost: 0.358738\n",
      "Epoch    9/20 Batch 2/3 Cost: 0.234792\n",
      "Epoch    9/20 Batch 3/3 Cost: 0.123071\n",
      "Epoch   10/20 Batch 1/3 Cost: 0.246693\n",
      "Epoch   10/20 Batch 2/3 Cost: 0.344078\n",
      "Epoch   10/20 Batch 3/3 Cost: 0.110062\n",
      "Epoch   11/20 Batch 1/3 Cost: 0.171347\n",
      "Epoch   11/20 Batch 2/3 Cost: 0.368823\n",
      "Epoch   11/20 Batch 3/3 Cost: 0.357339\n",
      "Epoch   12/20 Batch 1/3 Cost: 0.187173\n",
      "Epoch   12/20 Batch 2/3 Cost: 0.391338\n",
      "Epoch   12/20 Batch 3/3 Cost: 0.162864\n",
      "Epoch   13/20 Batch 1/3 Cost: 0.196158\n",
      "Epoch   13/20 Batch 2/3 Cost: 0.384534\n",
      "Epoch   13/20 Batch 3/3 Cost: 0.115525\n",
      "Epoch   14/20 Batch 1/3 Cost: 0.397011\n",
      "Epoch   14/20 Batch 2/3 Cost: 0.185757\n",
      "Epoch   14/20 Batch 3/3 Cost: 0.124165\n",
      "Epoch   15/20 Batch 1/3 Cost: 0.245526\n",
      "Epoch   15/20 Batch 2/3 Cost: 0.287353\n",
      "Epoch   15/20 Batch 3/3 Cost: 0.490893\n",
      "Epoch   16/20 Batch 1/3 Cost: 0.186612\n",
      "Epoch   16/20 Batch 2/3 Cost: 0.158869\n",
      "Epoch   16/20 Batch 3/3 Cost: 0.621609\n",
      "Epoch   17/20 Batch 1/3 Cost: 0.138772\n",
      "Epoch   17/20 Batch 2/3 Cost: 0.737292\n",
      "Epoch   17/20 Batch 3/3 Cost: 0.181329\n",
      "Epoch   18/20 Batch 1/3 Cost: 0.386051\n",
      "Epoch   18/20 Batch 2/3 Cost: 0.182436\n",
      "Epoch   18/20 Batch 3/3 Cost: 0.123714\n",
      "Epoch   19/20 Batch 1/3 Cost: 0.044291\n",
      "Epoch   19/20 Batch 2/3 Cost: 0.422172\n",
      "Epoch   19/20 Batch 3/3 Cost: 0.386516\n",
      "Epoch   20/20 Batch 1/3 Cost: 0.193500\n",
      "Epoch   20/20 Batch 2/3 Cost: 0.438093\n",
      "Epoch   20/20 Batch 3/3 Cost: 0.338104\n"
     ]
    }
   ],
   "source": [
    "optimizer = torch.optim.SGD(model.parameters(), lr=1e-5)\n",
    "\n",
    "nb_epochs = 20\n",
    "for epoch in range(nb_epochs+1):\n",
    "    for batch_idx, samples in enumerate(dataloader):\n",
    "        x_train, y_train = samples\n",
    "        prediction = model(x_train)\n",
    "\n",
    "        cost = F.mse_loss(prediction, y_train)\n",
    "\n",
    "        optimizer.zero_grad()\n",
    "        cost.backward()\n",
    "        optimizer.step()\n",
    "\n",
    "        print('Epoch {:4d}/{} Batch {}/{} Cost: {:.6f}'.format(epoch, nb_epochs, batch_idx+1, len(dataloader), cost.item()))"
   ]
  },
  {
   "cell_type": "code",
   "execution_count": 13,
   "id": "b3f81340-dd92-4868-a98c-a28d000c0238",
   "metadata": {},
   "outputs": [
    {
     "name": "stdout",
     "output_type": "stream",
     "text": [
      "훈련 후 입력이 73, 80, 75일 때의 예측값 : tensor([[151.1420]], grad_fn=<AddmmBackward0>)\n"
     ]
    }
   ],
   "source": [
    "new_var = torch.FloatTensor([[73, 80, 75]])\n",
    "pred_y = model(new_var)\n",
    "print(\"훈련 후 입력이 73, 80, 75일 때의 예측값 :\", pred_y)"
   ]
  }
 ],
 "metadata": {
  "kernelspec": {
   "display_name": "Python 3 (ipykernel)",
   "language": "python",
   "name": "python3"
  },
  "language_info": {
   "codemirror_mode": {
    "name": "ipython",
    "version": 3
   },
   "file_extension": ".py",
   "mimetype": "text/x-python",
   "name": "python",
   "nbconvert_exporter": "python",
   "pygments_lexer": "ipython3",
   "version": "3.12.8"
  }
 },
 "nbformat": 4,
 "nbformat_minor": 5
}
