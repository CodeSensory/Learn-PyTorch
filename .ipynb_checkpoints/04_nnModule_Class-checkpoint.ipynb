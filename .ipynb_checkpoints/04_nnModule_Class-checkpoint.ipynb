{
 "cells": [
  {
   "cell_type": "markdown",
   "id": "ba654e6e-09c7-4bb1-a458-b6bd7ed91ab5",
   "metadata": {},
   "source": [
    "### Linear Regression"
   ]
  },
  {
   "cell_type": "code",
   "execution_count": 1,
   "id": "aa614d33-673b-49a9-9812-7c2e25afed07",
   "metadata": {},
   "outputs": [
    {
     "data": {
      "text/plain": [
       "<torch._C.Generator at 0x1df774c59f0>"
      ]
     },
     "execution_count": 1,
     "metadata": {},
     "output_type": "execute_result"
    }
   ],
   "source": [
    "import torch\n",
    "import torch.nn as nn\n",
    "import torch.nn.functional as F\n",
    "\n",
    "torch.manual_seed(81)"
   ]
  },
  {
   "cell_type": "code",
   "execution_count": 2,
   "id": "993ed734-4cb9-4793-8541-6153152fba59",
   "metadata": {},
   "outputs": [],
   "source": [
    "x_train = torch.FloatTensor([[1], [2], [3]])\n",
    "y_train = torch.FloatTensor([[2], [4], [6]])"
   ]
  },
  {
   "cell_type": "code",
   "execution_count": 5,
   "id": "6213b618-3bae-4cb9-bdb1-864e7092bfc6",
   "metadata": {},
   "outputs": [
    {
     "name": "stdout",
     "output_type": "stream",
     "text": [
      "[Parameter containing:\n",
      "tensor([[-0.4854]], requires_grad=True), Parameter containing:\n",
      "tensor([-0.8578], requires_grad=True)]\n"
     ]
    }
   ],
   "source": [
    "model = nn.Linear(1, 1)\n",
    "print(list(model.parameters()))"
   ]
  },
  {
   "cell_type": "code",
   "execution_count": 7,
   "id": "613bb455-3dae-4d0d-b30e-bfed252da32c",
   "metadata": {},
   "outputs": [
    {
     "name": "stdout",
     "output_type": "stream",
     "text": [
      "Epoch    0/2000 Cost: 38.090038\n",
      "Epoch  100/2000 Cost: 0.003452\n",
      "Epoch  200/2000 Cost: 0.002133\n",
      "Epoch  300/2000 Cost: 0.001318\n",
      "Epoch  400/2000 Cost: 0.000815\n",
      "Epoch  500/2000 Cost: 0.000503\n",
      "Epoch  600/2000 Cost: 0.000311\n",
      "Epoch  700/2000 Cost: 0.000192\n",
      "Epoch  800/2000 Cost: 0.000119\n",
      "Epoch  900/2000 Cost: 0.000073\n",
      "Epoch 1000/2000 Cost: 0.000045\n",
      "Epoch 1100/2000 Cost: 0.000028\n",
      "Epoch 1200/2000 Cost: 0.000017\n",
      "Epoch 1300/2000 Cost: 0.000011\n",
      "Epoch 1400/2000 Cost: 0.000007\n",
      "Epoch 1500/2000 Cost: 0.000004\n",
      "Epoch 1600/2000 Cost: 0.000003\n",
      "Epoch 1700/2000 Cost: 0.000002\n",
      "Epoch 1800/2000 Cost: 0.000001\n",
      "Epoch 1900/2000 Cost: 0.000001\n",
      "Epoch 2000/2000 Cost: 0.000000\n"
     ]
    }
   ],
   "source": [
    "optimizer = torch.optim.SGD(model.parameters(), lr=0.01)\n",
    "nb_epochs = 2000\n",
    "\n",
    "for epoch in range(nb_epochs+1):\n",
    "    prediction = model(x_train)\n",
    "    cost = F.mse_loss(prediction, y_train)\n",
    "\n",
    "    optimizer.zero_grad()\n",
    "    cost.backward()\n",
    "    optimizer.step()\n",
    "\n",
    "    if epoch % 100 == 0:\n",
    "        print('Epoch {:4d}/{} Cost: {:.6f}'.format(epoch, nb_epochs, cost.item()))"
   ]
  },
  {
   "cell_type": "code",
   "execution_count": 8,
   "id": "c3e278e0-4a70-4c4b-b0fe-6d19d3528aea",
   "metadata": {},
   "outputs": [
    {
     "name": "stdout",
     "output_type": "stream",
     "text": [
      "훈련 후 입력이 4일때의 예측값 : tensor([[7.9988]], grad_fn=<AddmmBackward0>)\n"
     ]
    }
   ],
   "source": [
    "new_var = torch.FloatTensor([[4.0]])\n",
    "pred_y = model(new_var)\n",
    "print(\"훈련 후 입력이 4일때의 예측값 :\", pred_y)"
   ]
  },
  {
   "cell_type": "code",
   "execution_count": 9,
   "id": "284bb002-e910-4524-9d2f-76972c8c9510",
   "metadata": {},
   "outputs": [
    {
     "name": "stdout",
     "output_type": "stream",
     "text": [
      "[Parameter containing:\n",
      "tensor([[1.9993]], requires_grad=True), Parameter containing:\n",
      "tensor([0.0016], requires_grad=True)]\n"
     ]
    }
   ],
   "source": [
    "print(list(model.parameters()))"
   ]
  },
  {
   "cell_type": "markdown",
   "id": "869f2ec6-dcf8-4868-b607-f59b1b65f9fc",
   "metadata": {},
   "source": [
    "### Multivariable Linear Regression"
   ]
  },
  {
   "cell_type": "code",
   "execution_count": 11,
   "id": "960e92c6-48fa-4015-930b-7b8ae265af82",
   "metadata": {},
   "outputs": [
    {
     "data": {
      "text/plain": [
       "<torch._C.Generator at 0x1df774c59f0>"
      ]
     },
     "execution_count": 11,
     "metadata": {},
     "output_type": "execute_result"
    }
   ],
   "source": [
    "import torch\n",
    "import torch.nn as nn\n",
    "import torch.nn.functional as F\n",
    "\n",
    "torch.manual_seed(81)"
   ]
  },
  {
   "cell_type": "code",
   "execution_count": 12,
   "id": "11695286-cda7-441c-a094-e96d02253b67",
   "metadata": {},
   "outputs": [],
   "source": [
    "x_train = torch.FloatTensor([[73, 80, 75],\n",
    "                             [93, 88, 93],\n",
    "                             [89, 91, 80],\n",
    "                             [96, 98, 100],\n",
    "                             [73, 66, 70]])\n",
    "y_train = torch.FloatTensor([[152], [185], [180], [196], [142]])"
   ]
  },
  {
   "cell_type": "code",
   "execution_count": 13,
   "id": "3e95e9f4-c1fe-4957-aa26-53522a66396b",
   "metadata": {},
   "outputs": [
    {
     "name": "stdout",
     "output_type": "stream",
     "text": [
      "[Parameter containing:\n",
      "tensor([[ 0.5627,  0.3156, -0.2802]], requires_grad=True), Parameter containing:\n",
      "tensor([-0.4952], requires_grad=True)]\n"
     ]
    }
   ],
   "source": [
    "model = nn.Linear(3, 1)\n",
    "print(list(model.parameters()))"
   ]
  },
  {
   "cell_type": "code",
   "execution_count": 14,
   "id": "dc387b5c-7520-4718-a149-9aad1ccd9f0d",
   "metadata": {},
   "outputs": [
    {
     "name": "stdout",
     "output_type": "stream",
     "text": [
      "Epoch    0/2000 Cost: 14739.796875\n",
      "Epoch  100/2000 Cost: 0.689544\n",
      "Epoch  200/2000 Cost: 0.660872\n",
      "Epoch  300/2000 Cost: 0.633708\n",
      "Epoch  400/2000 Cost: 0.607963\n",
      "Epoch  500/2000 Cost: 0.583551\n",
      "Epoch  600/2000 Cost: 0.560408\n",
      "Epoch  700/2000 Cost: 0.538453\n",
      "Epoch  800/2000 Cost: 0.517611\n",
      "Epoch  900/2000 Cost: 0.497834\n",
      "Epoch 1000/2000 Cost: 0.479052\n",
      "Epoch 1100/2000 Cost: 0.461201\n",
      "Epoch 1200/2000 Cost: 0.444234\n",
      "Epoch 1300/2000 Cost: 0.428117\n",
      "Epoch 1400/2000 Cost: 0.412782\n",
      "Epoch 1500/2000 Cost: 0.398193\n",
      "Epoch 1600/2000 Cost: 0.384304\n",
      "Epoch 1700/2000 Cost: 0.371090\n",
      "Epoch 1800/2000 Cost: 0.358507\n",
      "Epoch 1900/2000 Cost: 0.346517\n",
      "Epoch 2000/2000 Cost: 0.335093\n"
     ]
    }
   ],
   "source": [
    "optimizer = torch.optim.SGD(model.parameters(), lr=1e-5)\n",
    "nb_epochs = 2000\n",
    "\n",
    "for epoch in range(nb_epochs+1):\n",
    "    prediction = model(x_train)\n",
    "    cost = F.mse_loss(prediction, y_train)\n",
    "\n",
    "    optimizer.zero_grad()\n",
    "    cost.backward()\n",
    "    optimizer.step()\n",
    "\n",
    "    if epoch % 100 == 0:\n",
    "        print('Epoch {:4d}/{} Cost: {:.6f}'.format(epoch, nb_epochs, cost.item()))"
   ]
  },
  {
   "cell_type": "code",
   "execution_count": 15,
   "id": "6d2d9d51-a3fa-499e-aec7-8577bf6a34b5",
   "metadata": {},
   "outputs": [
    {
     "name": "stdout",
     "output_type": "stream",
     "text": [
      "훈련 후 입력이 73, 80, 75일 때의 예측값 : tensor([[152.9843]], grad_fn=<AddmmBackward0>)\n"
     ]
    }
   ],
   "source": [
    "new_var = torch.FloatTensor([[73, 80, 75]])\n",
    "pred_y = model(new_var)\n",
    "print(\"훈련 후 입력이 73, 80, 75일 때의 예측값 :\", pred_y)"
   ]
  },
  {
   "cell_type": "code",
   "execution_count": 16,
   "id": "53512423-52a1-4be0-8826-1a8f085721a7",
   "metadata": {},
   "outputs": [
    {
     "name": "stdout",
     "output_type": "stream",
     "text": [
      "[Parameter containing:\n",
      "tensor([[1.1031, 0.7329, 0.1909]], requires_grad=True), Parameter containing:\n",
      "tensor([-0.4901], requires_grad=True)]\n"
     ]
    }
   ],
   "source": [
    "print(list(model.parameters()))"
   ]
  },
  {
   "cell_type": "markdown",
   "id": "14675311-c372-49af-b4ec-631148f0f162",
   "metadata": {},
   "source": [
    "### Class Implemention"
   ]
  },
  {
   "cell_type": "code",
   "execution_count": 17,
   "id": "25255826-5185-40d3-b877-10e849ee716f",
   "metadata": {},
   "outputs": [],
   "source": [
    "class LinearRegressionModel(nn.Module):\n",
    "    def __init__(self):\n",
    "        super().__init__()\n",
    "        self.linear = nn.Linear(1, 1)\n",
    "\n",
    "    def forward(self, x):\n",
    "        return self.linear(x)"
   ]
  },
  {
   "cell_type": "code",
   "execution_count": 18,
   "id": "bfa71025-d417-45b0-834a-9ef59ecdd17c",
   "metadata": {},
   "outputs": [],
   "source": [
    "class MultivariateLinearRegressionModel(nn.Module):\n",
    "    def __init__(self):\n",
    "        super().__init__()\n",
    "        self.linear = nn.Linear(3, 1)\n",
    "\n",
    "    def forward(self, x):\n",
    "        return self.linear(x)"
   ]
  },
  {
   "cell_type": "code",
   "execution_count": null,
   "id": "c242a0a0-9c1a-40d6-a0b5-de760ab78ef2",
   "metadata": {},
   "outputs": [],
   "source": [
    "# model = LinearRegressionModel()\n",
    "# model = MultivariateLinearRegressionModel()"
   ]
  }
 ],
 "metadata": {
  "kernelspec": {
   "display_name": "Python 3 (ipykernel)",
   "language": "python",
   "name": "python3"
  },
  "language_info": {
   "codemirror_mode": {
    "name": "ipython",
    "version": 3
   },
   "file_extension": ".py",
   "mimetype": "text/x-python",
   "name": "python",
   "nbconvert_exporter": "python",
   "pygments_lexer": "ipython3",
   "version": "3.12.7"
  }
 },
 "nbformat": 4,
 "nbformat_minor": 5
}
