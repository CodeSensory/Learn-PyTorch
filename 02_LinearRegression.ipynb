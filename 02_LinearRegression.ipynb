{
 "cells": [
  {
   "cell_type": "markdown",
   "id": "0ef80813-93b9-416a-a85d-08eff52c31f6",
   "metadata": {},
   "source": [
    "### MAIN SETTING ###"
   ]
  },
  {
   "cell_type": "code",
   "execution_count": 1,
   "id": "c8250489-9c22-47bc-ae1b-1f602a45f641",
   "metadata": {},
   "outputs": [],
   "source": [
    "import torch\n",
    "import torch.nn as nn\n",
    "import torch.nn.functional as F\n",
    "import torch.optim as optim"
   ]
  },
  {
   "cell_type": "code",
   "execution_count": 2,
   "id": "40effaea-e3db-4db9-a14e-62f07f436fa9",
   "metadata": {},
   "outputs": [
    {
     "data": {
      "text/plain": [
       "<torch._C.Generator at 0x17865fa6010>"
      ]
     },
     "execution_count": 2,
     "metadata": {},
     "output_type": "execute_result"
    }
   ],
   "source": [
    "torch.manual_seed(81)"
   ]
  },
  {
   "cell_type": "markdown",
   "id": "3977db0f-7800-416b-9a5c-ef14d4f9eb91",
   "metadata": {},
   "source": [
    "### Variables Declaration ###"
   ]
  },
  {
   "cell_type": "code",
   "execution_count": 3,
   "id": "60b6621d-a773-4d9f-8f08-711f77963e4e",
   "metadata": {},
   "outputs": [],
   "source": [
    "x_train = torch.FloatTensor([[1], [2], [3]])\n",
    "y_train = torch.FloatTensor([[2], [4], [6]])"
   ]
  },
  {
   "cell_type": "code",
   "execution_count": 4,
   "id": "b80c0a12-b691-4dd4-8b9b-98b3f6bd407f",
   "metadata": {},
   "outputs": [
    {
     "name": "stdout",
     "output_type": "stream",
     "text": [
      "tensor([[1.],\n",
      "        [2.],\n",
      "        [3.]])\n",
      "torch.Size([3, 1])\n",
      "\n",
      "tensor([[2.],\n",
      "        [4.],\n",
      "        [6.]])\n",
      "torch.Size([3, 1])\n"
     ]
    }
   ],
   "source": [
    "print(x_train)\n",
    "print(x_train.shape)\n",
    "print()\n",
    "print(y_train)\n",
    "print(y_train.shape)"
   ]
  },
  {
   "cell_type": "markdown",
   "id": "1f66df2c-3681-496a-b8f0-e97ce776734e",
   "metadata": {},
   "source": [
    "### Weight, Bias Initialization ###"
   ]
  },
  {
   "cell_type": "code",
   "execution_count": 5,
   "id": "027f5b7d-f33e-49f8-a11f-d9a2883156c0",
   "metadata": {},
   "outputs": [
    {
     "name": "stdout",
     "output_type": "stream",
     "text": [
      "tensor([0.], requires_grad=True)\n"
     ]
    }
   ],
   "source": [
    "W = torch.zeros(1, requires_grad = True)\n",
    "print(W)"
   ]
  },
  {
   "cell_type": "code",
   "execution_count": 6,
   "id": "c9fe31a4-7f93-4f21-a78e-166da4fe30b8",
   "metadata": {},
   "outputs": [
    {
     "name": "stdout",
     "output_type": "stream",
     "text": [
      "tensor([0.], requires_grad=True)\n"
     ]
    }
   ],
   "source": [
    "b = torch.zeros(1, requires_grad = True)\n",
    "print(b)"
   ]
  },
  {
   "cell_type": "markdown",
   "id": "cbd61de9-c6d3-46e4-803e-3286565699d5",
   "metadata": {},
   "source": [
    "### Hypothesis"
   ]
  },
  {
   "cell_type": "code",
   "execution_count": 7,
   "id": "f1a20371-0c46-4077-aa39-52c41dd10499",
   "metadata": {},
   "outputs": [
    {
     "name": "stdout",
     "output_type": "stream",
     "text": [
      "tensor([[0.],\n",
      "        [0.],\n",
      "        [0.]], grad_fn=<AddBackward0>)\n"
     ]
    }
   ],
   "source": [
    "hypothesis = (x_train * W) + b\n",
    "print(hypothesis)"
   ]
  },
  {
   "cell_type": "markdown",
   "id": "0a137e5c-a802-4609-9e43-fe01045d902a",
   "metadata": {},
   "source": [
    "### Loss Function"
   ]
  },
  {
   "cell_type": "code",
   "execution_count": 8,
   "id": "98ad0cc3-9078-4b3d-8c51-5162b15fcdb2",
   "metadata": {},
   "outputs": [
    {
     "name": "stdout",
     "output_type": "stream",
     "text": [
      "tensor(18.6667, grad_fn=<MeanBackward0>)\n"
     ]
    }
   ],
   "source": [
    "cost = torch.mean((hypothesis - y_train) ** 2)\n",
    "print(cost)"
   ]
  },
  {
   "cell_type": "markdown",
   "id": "d2a0bc17-828f-45a5-922f-e106549bd814",
   "metadata": {},
   "source": [
    "### Gradient Descent"
   ]
  },
  {
   "cell_type": "code",
   "execution_count": 9,
   "id": "6f1454b4-e3d2-4ab8-9418-a088724c36e4",
   "metadata": {},
   "outputs": [],
   "source": [
    "#lr = learning rate\n",
    "optimizer = optim.SGD([W, b], lr=0.01)"
   ]
  },
  {
   "cell_type": "code",
   "execution_count": 10,
   "id": "f7407555-c95b-432a-8c4a-46054bd60914",
   "metadata": {},
   "outputs": [],
   "source": [
    "optimizer.zero_grad()\n",
    "cost.backward()\n",
    "optimizer.step()"
   ]
  },
  {
   "cell_type": "markdown",
   "id": "d7b76e5d-c363-4bbd-9af9-3ca123831f7a",
   "metadata": {},
   "source": [
    "### TRAIN CODE"
   ]
  },
  {
   "cell_type": "code",
   "execution_count": 11,
   "id": "019261d4-3f5c-42dc-a7da-beaabc9a5546",
   "metadata": {},
   "outputs": [
    {
     "name": "stdout",
     "output_type": "stream",
     "text": [
      "Epoch    0/2000 W: 0.187 b: 0.080 Cost: 18.666666\n",
      "Epoch   50/2000 W: 1.709 b: 0.650 Cost: 0.061424\n",
      "Epoch  100/2000 W: 1.746 b: 0.578 Cost: 0.048171\n",
      "Epoch  150/2000 W: 1.775 b: 0.513 Cost: 0.037866\n",
      "Epoch  200/2000 W: 1.800 b: 0.454 Cost: 0.029767\n",
      "Epoch  250/2000 W: 1.823 b: 0.403 Cost: 0.023399\n",
      "Epoch  300/2000 W: 1.843 b: 0.357 Cost: 0.018394\n",
      "Epoch  350/2000 W: 1.861 b: 0.317 Cost: 0.014459\n",
      "Epoch  400/2000 W: 1.876 b: 0.281 Cost: 0.011366\n",
      "Epoch  450/2000 W: 1.890 b: 0.249 Cost: 0.008935\n",
      "Epoch  500/2000 W: 1.903 b: 0.221 Cost: 0.007024\n",
      "Epoch  550/2000 W: 1.914 b: 0.196 Cost: 0.005521\n",
      "Epoch  600/2000 W: 1.924 b: 0.174 Cost: 0.004340\n",
      "Epoch  650/2000 W: 1.932 b: 0.154 Cost: 0.003412\n",
      "Epoch  700/2000 W: 1.940 b: 0.136 Cost: 0.002682\n",
      "Epoch  750/2000 W: 1.947 b: 0.121 Cost: 0.002108\n",
      "Epoch  800/2000 W: 1.953 b: 0.107 Cost: 0.001657\n",
      "Epoch  850/2000 W: 1.958 b: 0.095 Cost: 0.001303\n",
      "Epoch  900/2000 W: 1.963 b: 0.084 Cost: 0.001024\n",
      "Epoch  950/2000 W: 1.967 b: 0.075 Cost: 0.000805\n",
      "Epoch 1000/2000 W: 1.971 b: 0.066 Cost: 0.000633\n",
      "Epoch 1050/2000 W: 1.974 b: 0.059 Cost: 0.000497\n",
      "Epoch 1100/2000 W: 1.977 b: 0.052 Cost: 0.000391\n",
      "Epoch 1150/2000 W: 1.980 b: 0.046 Cost: 0.000307\n",
      "Epoch 1200/2000 W: 1.982 b: 0.041 Cost: 0.000242\n",
      "Epoch 1250/2000 W: 1.984 b: 0.036 Cost: 0.000190\n",
      "Epoch 1300/2000 W: 1.986 b: 0.032 Cost: 0.000149\n",
      "Epoch 1350/2000 W: 1.987 b: 0.029 Cost: 0.000117\n",
      "Epoch 1400/2000 W: 1.989 b: 0.025 Cost: 0.000092\n",
      "Epoch 1450/2000 W: 1.990 b: 0.022 Cost: 0.000073\n",
      "Epoch 1500/2000 W: 1.991 b: 0.020 Cost: 0.000057\n",
      "Epoch 1550/2000 W: 1.992 b: 0.018 Cost: 0.000045\n",
      "Epoch 1600/2000 W: 1.993 b: 0.016 Cost: 0.000035\n",
      "Epoch 1650/2000 W: 1.994 b: 0.014 Cost: 0.000028\n",
      "Epoch 1700/2000 W: 1.995 b: 0.012 Cost: 0.000022\n",
      "Epoch 1750/2000 W: 1.995 b: 0.011 Cost: 0.000017\n",
      "Epoch 1800/2000 W: 1.996 b: 0.010 Cost: 0.000013\n",
      "Epoch 1850/2000 W: 1.996 b: 0.009 Cost: 0.000011\n",
      "Epoch 1900/2000 W: 1.997 b: 0.008 Cost: 0.000008\n",
      "Epoch 1950/2000 W: 1.997 b: 0.007 Cost: 0.000007\n",
      "Epoch 2000/2000 W: 1.997 b: 0.006 Cost: 0.000005\n"
     ]
    }
   ],
   "source": [
    "x_train = torch.FloatTensor([[1], [2], [3]])\n",
    "y_train = torch.FloatTensor([[2], [4], [6]])\n",
    "\n",
    "W = torch.zeros(1, requires_grad = True)\n",
    "b = torch.zeros(1, requires_grad = True)\n",
    "\n",
    "optimizer = optim.SGD([W, b], lr=0.01)\n",
    "\n",
    "nb_epochs = 2000\n",
    "for epoch in range(nb_epochs + 1):\n",
    "    hypothesis = (x_train * W) + b\n",
    "    cost = torch.mean((hypothesis - y_train) ** 2)\n",
    "    optimizer.zero_grad()\n",
    "    cost.backward()\n",
    "    optimizer.step()\n",
    "\n",
    "    if epoch % 50 == 0:\n",
    "        print('Epoch {:4d}/{} W: {:.3f} b: {:.3f} Cost: {:.6f}'.format(epoch, nb_epochs, W.item(), b.item(), cost.item()))"
   ]
  },
  {
   "cell_type": "code",
   "execution_count": null,
   "id": "06e0ba35-b440-4221-938c-1a7b4d05816d",
   "metadata": {},
   "outputs": [],
   "source": []
  }
 ],
 "metadata": {
  "kernelspec": {
   "display_name": "Python 3 (ipykernel)",
   "language": "python",
   "name": "python3"
  },
  "language_info": {
   "codemirror_mode": {
    "name": "ipython",
    "version": 3
   },
   "file_extension": ".py",
   "mimetype": "text/x-python",
   "name": "python",
   "nbconvert_exporter": "python",
   "pygments_lexer": "ipython3",
   "version": "3.12.8"
  }
 },
 "nbformat": 4,
 "nbformat_minor": 5
}
