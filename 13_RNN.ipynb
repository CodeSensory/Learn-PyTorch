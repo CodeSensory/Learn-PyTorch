{
 "cells": [
  {
   "cell_type": "markdown",
   "id": "e74f9e75-78c7-4ab1-98f7-813b268e78e7",
   "metadata": {},
   "source": [
    "### NumPy"
   ]
  },
  {
   "cell_type": "code",
   "execution_count": 1,
   "id": "2f8321ef-6b10-4501-80be-1d6788e4b31c",
   "metadata": {},
   "outputs": [],
   "source": [
    "import numpy as np\n",
    "\n",
    "timesteps = 10\n",
    "input_size = 4\n",
    "hidden_size = 8\n",
    "\n",
    "inputs = np.random.random((timesteps, input_size))\n",
    "hidden_state_t = np.zeros((hidden_size,))"
   ]
  },
  {
   "cell_type": "code",
   "execution_count": 2,
   "id": "9989af82-ff9f-4451-a6f6-d761426922b0",
   "metadata": {},
   "outputs": [],
   "source": [
    "Wx = np.random.random((hidden_size, input_size))\n",
    "Wh = np.random.random((hidden_size, hidden_size))\n",
    "b = np.random.random((hidden_size,))"
   ]
  },
  {
   "cell_type": "code",
   "execution_count": 3,
   "id": "6d5c7122-342a-4dd7-9a96-e36ae2bdc2c9",
   "metadata": {},
   "outputs": [
    {
     "name": "stdout",
     "output_type": "stream",
     "text": [
      "(8, 4)\n",
      "(8, 8)\n",
      "(8,)\n"
     ]
    }
   ],
   "source": [
    "print(np.shape(Wx))\n",
    "print(np.shape(Wh))\n",
    "print(np.shape(b))"
   ]
  },
  {
   "cell_type": "code",
   "execution_count": 4,
   "id": "e1f38579-a622-4d5c-bb61-2b76153f0286",
   "metadata": {},
   "outputs": [
    {
     "name": "stdout",
     "output_type": "stream",
     "text": [
      "(1, 8)\n",
      "(2, 8)\n",
      "(3, 8)\n",
      "(4, 8)\n",
      "(5, 8)\n",
      "(6, 8)\n",
      "(7, 8)\n",
      "(8, 8)\n",
      "(9, 8)\n",
      "(10, 8)\n",
      "[[0.8163364  0.71991672 0.6223538  0.21868666 0.60177532 0.65988123\n",
      "  0.83637012 0.80492812]\n",
      " [0.99981566 0.9994855  0.99936837 0.99619009 0.98869182 0.9986219\n",
      "  0.99674368 0.99989808]\n",
      " [0.99997812 0.99995447 0.99977512 0.99987114 0.99571145 0.99976621\n",
      "  0.99914429 0.99999037]\n",
      " [0.99999176 0.99997697 0.99988341 0.99994627 0.99781897 0.99987039\n",
      "  0.99946746 0.99999502]\n",
      " [0.99999553 0.99998575 0.99994082 0.99996154 0.99899107 0.99994157\n",
      "  0.99980187 0.99999763]\n",
      " [0.99998971 0.99997709 0.99990314 0.99992595 0.99863464 0.99992738\n",
      "  0.99969792 0.99999593]\n",
      " [0.99999285 0.9999859  0.99993861 0.99990555 0.99900724 0.99995316\n",
      "  0.99972908 0.99999637]\n",
      " [0.99999418 0.99997767 0.99989266 0.99987706 0.99352013 0.99965537\n",
      "  0.99946531 0.99999442]\n",
      " [0.99999406 0.99998835 0.9999503  0.99983528 0.99870227 0.9999458\n",
      "  0.99973632 0.99999616]\n",
      " [0.9999887  0.99997339 0.99986708 0.99993986 0.99807193 0.99988801\n",
      "  0.99944903 0.99999448]]\n"
     ]
    }
   ],
   "source": [
    "total_hidden_states = []\n",
    "\n",
    "for input_t in inputs:\n",
    "    output_t = np.tanh(np.dot(Wx, input_t) + np.dot(Wh, hidden_state_t) + b)  # Wx*Xt + Wh*Ht-1 + b\n",
    "    total_hidden_states.append(list(output_t))\n",
    "    print(np.shape(total_hidden_states))\n",
    "    hidden_state_t = output_t\n",
    "\n",
    "total_hidden_states = np.stack(total_hidden_states, axis = 0)\n",
    "print(total_hidden_states)"
   ]
  },
  {
   "cell_type": "markdown",
   "id": "1429e2ea-7ee5-44bc-bdfa-d5760d1ca23d",
   "metadata": {},
   "source": [
    "### PyTorch"
   ]
  },
  {
   "cell_type": "code",
   "execution_count": 5,
   "id": "e641b96c-f89f-4ef6-b437-fa1065d16708",
   "metadata": {},
   "outputs": [],
   "source": [
    "import torch\n",
    "import torch.nn as nn"
   ]
  },
  {
   "cell_type": "code",
   "execution_count": 6,
   "id": "2127fa15-535c-4515-877e-bb918cd3d32f",
   "metadata": {},
   "outputs": [],
   "source": [
    "input_size = 5\n",
    "hidden_size = 8\n",
    "\n",
    "inputs = torch.Tensor(1, 10, 5)  #(batch_size, time_steps, input_size)"
   ]
  },
  {
   "cell_type": "code",
   "execution_count": 7,
   "id": "163a1000-89fa-4536-b698-2f2ba9dbaea1",
   "metadata": {},
   "outputs": [],
   "source": [
    "cell = nn.RNN(input_size, hidden_size, batch_first=True)\n",
    "outputs, _status = cell(inputs)"
   ]
  },
  {
   "cell_type": "code",
   "execution_count": 8,
   "id": "64217d45-b633-44e0-bc02-26d798bc5c85",
   "metadata": {},
   "outputs": [
    {
     "name": "stdout",
     "output_type": "stream",
     "text": [
      "torch.Size([1, 10, 8])\n",
      "torch.Size([1, 1, 8])\n"
     ]
    }
   ],
   "source": [
    "print(outputs.shape)  #모든 time_step의 hidden_state\n",
    "print(_status.shape)  #최종 time_step의 hidden_state"
   ]
  },
  {
   "cell_type": "markdown",
   "id": "04e07cf0-0f83-4a84-85d6-a78027d87365",
   "metadata": {},
   "source": [
    "### Deep RNN; PyTorch"
   ]
  },
  {
   "cell_type": "code",
   "execution_count": 9,
   "id": "a6ab233a-4d55-40fa-9108-08d17e3ef528",
   "metadata": {},
   "outputs": [],
   "source": [
    "inputs = torch.Tensor(1, 10, 5)"
   ]
  },
  {
   "cell_type": "code",
   "execution_count": 10,
   "id": "28ef4528-1c52-473c-a3e9-c6314c6377d3",
   "metadata": {},
   "outputs": [],
   "source": [
    "cell = nn.RNN(input_size = 5, hidden_size = 8, num_layers = 2, batch_first=True)\n",
    "outputs, _status = cell(inputs)"
   ]
  },
  {
   "cell_type": "code",
   "execution_count": 11,
   "id": "a12ae125-e152-493b-988c-4154afd60e28",
   "metadata": {},
   "outputs": [
    {
     "name": "stdout",
     "output_type": "stream",
     "text": [
      "torch.Size([1, 10, 8])\n",
      "torch.Size([2, 1, 8])\n"
     ]
    }
   ],
   "source": [
    "print(outputs.shape)  #모든 time_step의 hidden_state\n",
    "print(_status.shape)  #(층의 개수, 배치 크기, 은닉 상태의 크기)"
   ]
  },
  {
   "cell_type": "markdown",
   "id": "5987c98e-b6c6-477c-9e8b-fdbe9c7e5acc",
   "metadata": {},
   "source": [
    "### Bidirectional RNN; PyTorch"
   ]
  },
  {
   "cell_type": "code",
   "execution_count": 12,
   "id": "6943031e-fd31-4597-8b8e-fb7eef9ae58d",
   "metadata": {},
   "outputs": [],
   "source": [
    "inputs = torch.Tensor(1, 10, 5)"
   ]
  },
  {
   "cell_type": "code",
   "execution_count": 13,
   "id": "73985e08-aa56-4c19-9b92-fa90465c5a38",
   "metadata": {},
   "outputs": [],
   "source": [
    "cell = nn.RNN(input_size = 5, hidden_size = 8, num_layers = 2, batch_first=True, bidirectional=True)\n",
    "outputs, _status = cell(inputs)"
   ]
  },
  {
   "cell_type": "code",
   "execution_count": 14,
   "id": "c307649e-6701-4533-b332-e515e7a69882",
   "metadata": {},
   "outputs": [
    {
     "name": "stdout",
     "output_type": "stream",
     "text": [
      "torch.Size([1, 10, 16])\n",
      "torch.Size([4, 1, 8])\n"
     ]
    }
   ],
   "source": [
    "print(outputs.shape)  #(배치 크기, 시퀀스 길이, 은닉 상태의 크기 x 2)\n",
    "print(_status.shape)  #(층의 개수 x 2, 배치 크기, 은닉 상태의 크기)"
   ]
  },
  {
   "cell_type": "code",
   "execution_count": null,
   "id": "a5847ca2-743f-44ab-9adb-37d948034f87",
   "metadata": {},
   "outputs": [],
   "source": []
  }
 ],
 "metadata": {
  "kernelspec": {
   "display_name": "Python 3 (ipykernel)",
   "language": "python",
   "name": "python3"
  },
  "language_info": {
   "codemirror_mode": {
    "name": "ipython",
    "version": 3
   },
   "file_extension": ".py",
   "mimetype": "text/x-python",
   "name": "python",
   "nbconvert_exporter": "python",
   "pygments_lexer": "ipython3",
   "version": "3.12.8"
  }
 },
 "nbformat": 4,
 "nbformat_minor": 5
}
