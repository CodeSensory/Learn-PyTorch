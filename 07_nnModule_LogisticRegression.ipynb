{
 "cells": [
  {
   "cell_type": "code",
   "execution_count": 1,
   "id": "fb8ded1d-5205-4891-a391-90312eea3ad9",
   "metadata": {},
   "outputs": [
    {
     "data": {
      "text/plain": [
       "<torch._C.Generator at 0x1f6edeb59f0>"
      ]
     },
     "execution_count": 1,
     "metadata": {},
     "output_type": "execute_result"
    }
   ],
   "source": [
    "import torch\n",
    "import torch.nn as nn\n",
    "import torch.nn.functional as F\n",
    "import torch.optim as optim\n",
    "\n",
    "torch.manual_seed(81)"
   ]
  },
  {
   "cell_type": "code",
   "execution_count": 2,
   "id": "8f5db012-b84b-43ac-b68f-f0809c5f5919",
   "metadata": {},
   "outputs": [],
   "source": [
    "x_data = [[1, 2], [2, 3], [3, 1], [4, 3], [5, 3], [6, 2]]\n",
    "y_data = [[0], [0], [0], [1], [1], [1]]\n",
    "\n",
    "x_train = torch.FloatTensor(x_data)\n",
    "y_train = torch.FloatTensor(y_data)"
   ]
  },
  {
   "cell_type": "code",
   "execution_count": 3,
   "id": "ef642f8b-fb56-49ae-bbba-9afeefcf7bf3",
   "metadata": {},
   "outputs": [],
   "source": [
    "model = nn.Sequential(\n",
    "    nn.Linear(2, 1),\n",
    "    nn.Sigmoid()\n",
    ")"
   ]
  },
  {
   "cell_type": "code",
   "execution_count": 4,
   "id": "e7c7242b-4df9-4689-87b9-7c84eeaffed9",
   "metadata": {},
   "outputs": [
    {
     "data": {
      "text/plain": [
       "tensor([[0.7538],\n",
       "        [0.8998],\n",
       "        [0.8919],\n",
       "        [0.9727],\n",
       "        [0.9861],\n",
       "        [0.9897]], grad_fn=<SigmoidBackward0>)"
      ]
     },
     "execution_count": 4,
     "metadata": {},
     "output_type": "execute_result"
    }
   ],
   "source": [
    "model(x_train)"
   ]
  },
  {
   "cell_type": "code",
   "execution_count": 5,
   "id": "ac91c670-262e-4886-a513-57ce67f5de55",
   "metadata": {},
   "outputs": [
    {
     "name": "stdout",
     "output_type": "stream",
     "text": [
      "Epoch    0/100 Cost 0.996476 Accuracy 50.00%\n",
      "Epoch    5/100 Cost 1.730553 Accuracy 50.00%\n",
      "Epoch   10/100 Cost 0.375559 Accuracy 83.33%\n",
      "Epoch   15/100 Cost 0.517295 Accuracy 66.67%\n",
      "Epoch   20/100 Cost 0.597474 Accuracy 66.67%\n",
      "Epoch   25/100 Cost 0.379982 Accuracy 83.33%\n",
      "Epoch   30/100 Cost 0.447699 Accuracy 83.33%\n",
      "Epoch   35/100 Cost 0.320262 Accuracy 83.33%\n",
      "Epoch   40/100 Cost 0.361564 Accuracy 83.33%\n",
      "Epoch   45/100 Cost 0.269500 Accuracy 83.33%\n",
      "Epoch   50/100 Cost 0.282858 Accuracy 83.33%\n",
      "Epoch   55/100 Cost 0.223550 Accuracy 100.00%\n",
      "Epoch   60/100 Cost 0.215767 Accuracy 83.33%\n",
      "Epoch   65/100 Cost 0.184431 Accuracy 100.00%\n",
      "Epoch   70/100 Cost 0.171319 Accuracy 100.00%\n",
      "Epoch   75/100 Cost 0.158560 Accuracy 100.00%\n",
      "Epoch   80/100 Cost 0.150848 Accuracy 100.00%\n",
      "Epoch   85/100 Cost 0.144857 Accuracy 100.00%\n",
      "Epoch   90/100 Cost 0.139680 Accuracy 100.00%\n",
      "Epoch   95/100 Cost 0.134918 Accuracy 100.00%\n",
      "Epoch  100/100 Cost 0.130482 Accuracy 100.00%\n"
     ]
    }
   ],
   "source": [
    "optimizer = optim.SGD(model.parameters(), lr=1)\n",
    "\n",
    "nb_epochs = 100\n",
    "for epoch in range(nb_epochs+1):\n",
    "    hypothesis = model(x_train)\n",
    "    cost = F.binary_cross_entropy(hypothesis, y_train)\n",
    "\n",
    "    optimizer.zero_grad()\n",
    "    cost.backward()\n",
    "    optimizer.step()\n",
    "\n",
    "    if epoch % 5 == 0:\n",
    "        prediction = hypothesis >= torch.FloatTensor([0.5])  # 예측 0.5 넘으면 True\n",
    "        correct_prediction = prediction.float() == y_train  # 실제값과 일치하는 경우만 True\n",
    "        accuracy = correct_prediction.sum().item() / len(correct_prediction)\n",
    "        print('Epoch {:4d}/{} Cost {:.6f} Accuracy {:2.2f}%'.format(epoch, nb_epochs, cost.item(), accuracy*100))"
   ]
  },
  {
   "cell_type": "code",
   "execution_count": 6,
   "id": "d7449be6-cb7f-4b41-b1d4-83e63b279e8d",
   "metadata": {},
   "outputs": [
    {
     "name": "stdout",
     "output_type": "stream",
     "text": [
      "tensor([[0.0227],\n",
      "        [0.1455],\n",
      "        [0.2656],\n",
      "        [0.8002],\n",
      "        [0.9511],\n",
      "        [0.9842]], grad_fn=<SigmoidBackward0>)\n",
      "[Parameter containing:\n",
      "tensor([[1.5791, 0.4129]], requires_grad=True), Parameter containing:\n",
      "tensor([-6.1675], requires_grad=True)]\n"
     ]
    }
   ],
   "source": [
    "print(model(x_train))\n",
    "print(list(model.parameters()))"
   ]
  },
  {
   "cell_type": "markdown",
   "id": "cb37b7bb-47bf-42d2-962a-f7aba9874e2b",
   "metadata": {},
   "source": [
    "### Class Implemention"
   ]
  },
  {
   "cell_type": "code",
   "execution_count": 7,
   "id": "6272f2fb-175e-47d5-986f-2442c1fd21cb",
   "metadata": {},
   "outputs": [],
   "source": [
    "class BinaryClassifier(nn.Module):\n",
    "    def __init__(self):\n",
    "        super().__init__()\n",
    "        self.linear = nn.Linear(2, 1)\n",
    "        self.sigmoid = nn.Sigmoid()\n",
    "\n",
    "    def forward(self, x):\n",
    "        return self.sigmoid(self.linear(x))"
   ]
  },
  {
   "cell_type": "code",
   "execution_count": 8,
   "id": "70d94f9d-1dad-449d-b4f5-f0f1ddf9a4f0",
   "metadata": {},
   "outputs": [],
   "source": [
    "x_data = [[1, 2], [2, 3], [3, 1], [4, 3], [5, 3], [6, 2]]\n",
    "y_data = [[0], [0], [0], [1], [1], [1]]\n",
    "\n",
    "x_train = torch.FloatTensor(x_data)\n",
    "y_train = torch.FloatTensor(y_data)"
   ]
  },
  {
   "cell_type": "code",
   "execution_count": 9,
   "id": "c299b949-efd2-44e7-b2de-16d9c6e93244",
   "metadata": {},
   "outputs": [],
   "source": [
    "model = BinaryClassifier()"
   ]
  },
  {
   "cell_type": "code",
   "execution_count": 10,
   "id": "71ebe83c-ea73-4fa4-ad39-223f098cedd7",
   "metadata": {},
   "outputs": [
    {
     "name": "stdout",
     "output_type": "stream",
     "text": [
      "Epoch    0/100 Cost 1.322790 Accuracy 16.67%\n",
      "Epoch    5/100 Cost 0.814104 Accuracy 50.00%\n",
      "Epoch   10/100 Cost 0.383789 Accuracy 83.33%\n",
      "Epoch   15/100 Cost 1.122811 Accuracy 50.00%\n",
      "Epoch   20/100 Cost 0.435050 Accuracy 83.33%\n",
      "Epoch   25/100 Cost 0.516759 Accuracy 83.33%\n",
      "Epoch   30/100 Cost 0.354707 Accuracy 83.33%\n",
      "Epoch   35/100 Cost 0.412541 Accuracy 83.33%\n",
      "Epoch   40/100 Cost 0.299535 Accuracy 83.33%\n",
      "Epoch   45/100 Cost 0.329597 Accuracy 83.33%\n",
      "Epoch   50/100 Cost 0.250785 Accuracy 83.33%\n",
      "Epoch   55/100 Cost 0.254390 Accuracy 83.33%\n",
      "Epoch   60/100 Cost 0.206955 Accuracy 100.00%\n",
      "Epoch   65/100 Cost 0.194946 Accuracy 100.00%\n",
      "Epoch   70/100 Cost 0.172333 Accuracy 100.00%\n",
      "Epoch   75/100 Cost 0.161066 Accuracy 100.00%\n",
      "Epoch   80/100 Cost 0.152238 Accuracy 100.00%\n",
      "Epoch   85/100 Cost 0.146022 Accuracy 100.00%\n",
      "Epoch   90/100 Cost 0.140725 Accuracy 100.00%\n",
      "Epoch   95/100 Cost 0.135887 Accuracy 100.00%\n",
      "Epoch  100/100 Cost 0.131386 Accuracy 100.00%\n"
     ]
    }
   ],
   "source": [
    "optimizer = optim.SGD(model.parameters(), lr=1)\n",
    "\n",
    "nb_epochs = 100\n",
    "for epoch in range(nb_epochs+1):\n",
    "    hypothesis = model(x_train)\n",
    "    cost = F.binary_cross_entropy(hypothesis, y_train)\n",
    "\n",
    "    optimizer.zero_grad()\n",
    "    cost.backward()\n",
    "    optimizer.step()\n",
    "\n",
    "    if epoch % 5 == 0:\n",
    "        prediction = hypothesis >= torch.FloatTensor([0.5])  # 예측 0.5 넘으면 True\n",
    "        correct_prediction = prediction.float() == y_train  # 실제값과 일치하는 경우만 True\n",
    "        accuracy = correct_prediction.sum().item() / len(correct_prediction)\n",
    "        print('Epoch {:4d}/{} Cost {:.6f} Accuracy {:2.2f}%'.format(epoch, nb_epochs, cost.item(), accuracy*100))"
   ]
  }
 ],
 "metadata": {
  "kernelspec": {
   "display_name": "Python 3 (ipykernel)",
   "language": "python",
   "name": "python3"
  },
  "language_info": {
   "codemirror_mode": {
    "name": "ipython",
    "version": 3
   },
   "file_extension": ".py",
   "mimetype": "text/x-python",
   "name": "python",
   "nbconvert_exporter": "python",
   "pygments_lexer": "ipython3",
   "version": "3.12.8"
  }
 },
 "nbformat": 4,
 "nbformat_minor": 5
}
