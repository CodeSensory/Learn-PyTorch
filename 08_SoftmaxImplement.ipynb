{
 "cells": [
  {
   "cell_type": "code",
   "execution_count": null,
   "id": "48473ade-c1b4-4915-9227-42f9903c29d9",
   "metadata": {},
   "outputs": [],
   "source": [
    "import torch\n",
    "import torch.nn as nn\n",
    "import torch.nn.functional as F\n",
    "import torch.optim as optim\n",
    "\n",
    "torch.manual_seed(81)"
   ]
  },
  {
   "cell_type": "markdown",
   "id": "8897617c-2cea-4d3f-8dd3-0cd3c6ffcd1d",
   "metadata": {},
   "source": [
    "### Softmax Loss Function Implement(Low Level) ###"
   ]
  },
  {
   "cell_type": "code",
   "execution_count": null,
   "id": "7ddb5f2c-2e6a-49de-904d-3a7006a609d3",
   "metadata": {},
   "outputs": [],
   "source": [
    "z = torch.FloatTensor([1, 2, 3])"
   ]
  },
  {
   "cell_type": "code",
   "execution_count": null,
   "id": "85669b1f-3519-432d-a8bc-c297718f8d27",
   "metadata": {},
   "outputs": [],
   "source": [
    "hypothesis = F.softmax(z, dim=0)\n",
    "print(hypothesis)\n",
    "print(hypothesis.sum())"
   ]
  },
  {
   "cell_type": "code",
   "execution_count": null,
   "id": "7457b03b-1a55-48a7-8a93-9fddd14cb5d6",
   "metadata": {},
   "outputs": [],
   "source": [
    "z = torch.rand(3, 5, requires_grad=True)\n",
    "print(z)"
   ]
  },
  {
   "cell_type": "code",
   "execution_count": null,
   "id": "0ffc40d8-3ca3-488b-bd14-ee22dfda9c73",
   "metadata": {},
   "outputs": [],
   "source": [
    "hypothesis = F.softmax(z, dim=1)\n",
    "print(hypothesis)\n",
    "print(hypothesis.sum())"
   ]
  },
  {
   "cell_type": "code",
   "execution_count": null,
   "id": "d1ac52e9-b15f-42e7-8223-e05592b55d94",
   "metadata": {},
   "outputs": [],
   "source": [
    "y = torch.randint(5, (3,)).long()\n",
    "print(y)"
   ]
  },
  {
   "cell_type": "code",
   "execution_count": null,
   "id": "83f020eb-7168-4c8e-bf44-ba08226f8e63",
   "metadata": {},
   "outputs": [],
   "source": [
    "y_one_hot = torch.zeros_like(hypothesis)\n",
    "y_one_hot.scatter_(1, y.unsqueeze(1), 1)"
   ]
  },
  {
   "cell_type": "code",
   "execution_count": null,
   "id": "e559a9d3-e7ca-47d7-8a4b-0797cee6deb6",
   "metadata": {},
   "outputs": [],
   "source": [
    "cost = (y_one_hot * -torch.log(hypothesis)).sum(dim=1).mean()\n",
    "print(cost)"
   ]
  },
  {
   "cell_type": "markdown",
   "id": "82a08059-1af2-4725-a9ee-0c6471cac2c1",
   "metadata": {},
   "source": [
    "### Softmax Loss Function Implement(High Level) ###"
   ]
  },
  {
   "cell_type": "code",
   "execution_count": null,
   "id": "959320f5-5d4f-48f4-b11e-a5b6a4be1133",
   "metadata": {},
   "outputs": [],
   "source": [
    "# torch.log(F.softmax(z, dim=1)) == F.log_softmax(z, dim=1)\n",
    "torch.log(F.softmax(z, dim=1))"
   ]
  },
  {
   "cell_type": "code",
   "execution_count": null,
   "id": "ff4a720e-bfde-4929-830c-1adf85a98ab1",
   "metadata": {},
   "outputs": [],
   "source": [
    "F.log_softmax(z, dim=1)"
   ]
  },
  {
   "cell_type": "code",
   "execution_count": null,
   "id": "7505ed10-e306-4a4e-a859-9d39b0f611e0",
   "metadata": {},
   "outputs": [],
   "source": [
    "# First\n",
    "cost = (y_one_hot * -torch.log(hypothesis)).sum(dim=1).mean()\n",
    "print(cost)\n",
    "\n",
    "# Second\n",
    "cost = (y_one_hot * -F.log_softmax(z, dim=1)).sum(dim=1).mean()\n",
    "print(cost)\n",
    "\n",
    "# Third\n",
    "cost = F.nll_loss(F.log_softmax(z, dim=1), y)\n",
    "print(cost)\n",
    "\n",
    "# Fourth\n",
    "cost = F.cross_entropy(z, y)\n",
    "print(cost)"
   ]
  },
  {
   "cell_type": "markdown",
   "id": "d06eb65d-27e5-40b6-8d9a-2e73a3b0054d",
   "metadata": {},
   "source": [
    "### EXAMPLE"
   ]
  },
  {
   "cell_type": "code",
   "execution_count": null,
   "id": "9b5138c1-d83f-435b-a30b-e09b0d3497e5",
   "metadata": {},
   "outputs": [],
   "source": [
    "x_train = [[1, 2, 1, 1],\n",
    "           [2, 1, 3, 2],\n",
    "           [3, 1, 3, 4],\n",
    "           [4, 1, 5, 5],\n",
    "           [1, 7, 5, 5],\n",
    "           [1, 2, 5, 6],\n",
    "           [1, 6, 6, 6],\n",
    "           [1, 7, 7, 7]]\n",
    "y_train = [2, 2, 2, 1, 1, 1, 0, 0]\n",
    "x_train = torch.FloatTensor(x_train)\n",
    "y_train = torch.LongTensor(y_train)\n",
    "\n",
    "print(x_train.shape)\n",
    "print(y_train.shape)"
   ]
  },
  {
   "cell_type": "code",
   "execution_count": null,
   "id": "e73af57e-8666-400c-8b02-07643e31ff5b",
   "metadata": {},
   "outputs": [],
   "source": [
    "# One-Hot-Encoding; y_train에서 클래스는 0, 1, 2 총 3개이므로 결과는 8x3 Tensor가 나와야 함\n",
    "\n",
    "y_one_hot = torch.zeros(8, 3)\n",
    "y_one_hot.scatter_(1, y_train.unsqueeze(1), 1)\n",
    "print(y_one_hot.shape)"
   ]
  },
  {
   "cell_type": "code",
   "execution_count": null,
   "id": "55da59a5-65fe-4912-9977-aa80170a5545",
   "metadata": {},
   "outputs": [],
   "source": [
    "W = torch.zeros((4, 3), requires_grad=True)\n",
    "b = torch.zeros((1, 3), requires_grad=True)\n",
    "\n",
    "optimizer = optim.SGD([W, b], lr=0.1)\n",
    "print(optimizer)"
   ]
  },
  {
   "cell_type": "code",
   "execution_count": null,
   "id": "4937002d-6a0a-4c63-aa0e-0493ea051b21",
   "metadata": {},
   "outputs": [],
   "source": [
    "# Low Level\n",
    "nb_epochs = 1000\n",
    "for epoch in range(nb_epochs+1):\n",
    "    hypothesis = F.softmax(x_train.matmul(W) + b, dim=1)\n",
    "    cost = (y_one_hot * -torch.log(hypothesis)).sum(dim=1).mean()\n",
    "\n",
    "    optimizer.zero_grad()\n",
    "    cost.backward()\n",
    "    optimizer.step()\n",
    "\n",
    "    if epoch % 100 == 0:\n",
    "        print('Epoch {:4d}/{} Cost: {:.6f}'.format(epoch, nb_epochs, cost.item()))"
   ]
  },
  {
   "cell_type": "code",
   "execution_count": null,
   "id": "edc082a7-8b37-46d1-9e38-fbdeb42b37c0",
   "metadata": {},
   "outputs": [],
   "source": [
    "W = torch.zeros((4, 3), requires_grad=True)\n",
    "b = torch.zeros((1, 3), requires_grad=True)\n",
    "\n",
    "optimizer = optim.SGD([W, b], lr=0.1)\n",
    "print(optimizer)"
   ]
  },
  {
   "cell_type": "code",
   "execution_count": null,
   "id": "adb9dbf9-aa77-4297-b733-2d227aef67f7",
   "metadata": {},
   "outputs": [],
   "source": [
    "# High Level\n",
    "nb_epochs = 1000\n",
    "for epoch in range(nb_epochs + 1):\n",
    "    z = x_train.matmul(W) + b\n",
    "    cost = F.cross_entropy(z, y_train)\n",
    "\n",
    "    optimizer.zero_grad()\n",
    "    cost.backward()\n",
    "    optimizer.step()\n",
    "\n",
    "    if epoch % 100 == 0:\n",
    "        print('Epoch {:4d}/{} Cost: {:.6f}'.format(epoch, nb_epochs, cost.item()))"
   ]
  },
  {
   "cell_type": "code",
   "execution_count": null,
   "id": "0d82b5ee-7b71-4b20-aed8-4f64f0983e20",
   "metadata": {},
   "outputs": [],
   "source": [
    "# nn.Module\n",
    "\n",
    "model = nn.Linear(4, 3)\n",
    "optimizer = optim.SGD(model.parameters(), lr=0.1)\n",
    "print(optimizer)\n",
    "\n",
    "nb_epochs = 1000\n",
    "for epoch in range(nb_epochs + 1):\n",
    "    prediction = model(x_train)\n",
    "    cost = F.cross_entropy(prediction, y_train)\n",
    "\n",
    "    optimizer.zero_grad()\n",
    "    cost.backward()\n",
    "    optimizer.step()\n",
    "\n",
    "    if epoch % 100 == 0:\n",
    "        print('Epoch {:4d}/{} Cost: {:.6f}'.format(epoch, nb_epochs, cost.item()))"
   ]
  },
  {
   "cell_type": "code",
   "execution_count": null,
   "id": "d0dcdffe-7d3a-47f7-bcb1-5eaf93aff957",
   "metadata": {},
   "outputs": [],
   "source": [
    "# Class Implement\n",
    "\n",
    "class SoftmaxClassifierModel(nn.Module):\n",
    "    def __init__(self):\n",
    "        super().__init__()\n",
    "        self.linear = nn.Linear(4, 3)  # Output이 3\n",
    "\n",
    "    def forward(self, x):\n",
    "        return self.linear(x)"
   ]
  },
  {
   "cell_type": "code",
   "execution_count": null,
   "id": "be927b1a-9c3f-4dd8-b6a1-282eccf63f67",
   "metadata": {},
   "outputs": [],
   "source": [
    "model = SoftmaxClassifierModel()\n",
    "optimizer = optim.SGD(model.parameters(), lr=0.1)"
   ]
  },
  {
   "cell_type": "code",
   "execution_count": null,
   "id": "4f0c627e-72ca-4e29-8256-d3b74ffb2e16",
   "metadata": {},
   "outputs": [],
   "source": [
    "nb_epochs = 1000\n",
    "\n",
    "for epoch in range(nb_epochs + 1):\n",
    "    prediction = model(x_train)\n",
    "    cost = F.cross_entropy(prediction, y_train)\n",
    "\n",
    "    optimizer.zero_grad()\n",
    "    cost.backward()\n",
    "    optimizer.step()\n",
    "\n",
    "    if epoch % 100 == 0:\n",
    "        print('Epoch {:4d}/{} Cost: {:.6f}'.format(epoch, nb_epochs, cost.item()))"
   ]
  },
  {
   "cell_type": "code",
   "execution_count": null,
   "id": "1495859d-68cf-4f98-8a0d-7fee7024abd3",
   "metadata": {},
   "outputs": [],
   "source": []
  }
 ],
 "metadata": {
  "kernelspec": {
   "display_name": "Python 3 (ipykernel)",
   "language": "python",
   "name": "python3"
  },
  "language_info": {
   "codemirror_mode": {
    "name": "ipython",
    "version": 3
   },
   "file_extension": ".py",
   "mimetype": "text/x-python",
   "name": "python",
   "nbconvert_exporter": "python",
   "pygments_lexer": "ipython3",
   "version": "3.12.7"
  }
 },
 "nbformat": 4,
 "nbformat_minor": 5
}
